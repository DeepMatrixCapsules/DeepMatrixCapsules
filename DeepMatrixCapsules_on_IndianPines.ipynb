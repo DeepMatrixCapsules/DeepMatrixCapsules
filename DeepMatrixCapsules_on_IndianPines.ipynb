{
 "cells": [
  {
   "cell_type": "markdown",
   "metadata": {
    "id": "DZU9nS-J714K"
   },
   "source": [
    "# **Deep Matrix Capsules on Indian Pines**\n",
    "### **Parameters:**\n",
    "\n",
    "WindowSize: 25\n",
    "\n",
    "No. of PCA Components: 30\n",
    "\n",
    "No. of epochs: 50\n",
    "\n",
    "Batch size: 64\n",
    "\n",
    "Learning Rate: 3e-3\n",
    "\n",
    "EM Iterations: 2\n",
    "\n",
    "Architecture: [64, 32, 16, 16, 16]\n",
    "\n",
    "Percentage of training data used: 50% (5125 samples)\n",
    "\n",
    "Percentage of validation data: 10% (1025 samples)\n",
    "\n",
    "Percentage of testing data: 40% (4100 samples)"
   ]
  },
  {
   "cell_type": "markdown",
   "metadata": {
    "id": "1lo7Iv6t8c7q"
   },
   "source": [
    "## **Imports & Initialization**"
   ]
  },
  {
   "cell_type": "code",
   "execution_count": null,
   "metadata": {
    "id": "CyNgS4dq353c"
   },
   "outputs": [],
   "source": [
    "from datetime import datetime\n",
    "import math\n",
    "from operator import truediv\n",
    "import os\n",
    "import pickle\n",
    "import random\n",
    "import time\n",
    "\n",
    "import matplotlib.pyplot as plt\n",
    "import numpy as np\n",
    "\n",
    "import scipy.io as sio\n",
    "\n",
    "from sklearn.decomposition import PCA\n",
    "from sklearn.model_selection import train_test_split\n",
    "from sklearn.metrics import confusion_matrix, accuracy_score\n",
    "from sklearn.metrics import classification_report, cohen_kappa_score\n",
    "\n",
    "import spectral\n",
    "\n",
    "import torch\n",
    "import torch.nn as nn\n",
    "import torch.nn.functional as F\n",
    "import torch.optim as optim\n",
    "from torchvision import datasets, transforms\n",
    "from torch.nn.modules.loss import _Loss\n",
    "\n",
    "import warnings\n",
    "warnings.filterwarnings('ignore')"
   ]
  },
  {
   "cell_type": "code",
   "execution_count": null,
   "metadata": {
    "colab": {
     "base_uri": "https://localhost:8080/"
    },
    "id": "QRXMOdRD70RL",
    "outputId": "e27be161-3163-48c7-d31d-d3175fe254cc"
   },
   "outputs": [
    {
     "name": "stdout",
     "output_type": "stream",
     "text": [
      "cuda:0\n"
     ]
    }
   ],
   "source": [
    "seed = 3\n",
    "\n",
    "# Making the model deterministic\n",
    "\n",
    "def set_seed(seed):\n",
    "    torch.manual_seed(seed)\n",
    "    torch.cuda.manual_seed_all(seed)\n",
    "    torch.backends.cudnn.deterministic = True\n",
    "    torch.backends.cudnn.benchmark = False\n",
    "    np.random.seed(seed)\n",
    "    random.seed(seed)\n",
    "    os.environ['PYTHONHASHSEED'] = str(seed)\n",
    "\n",
    "set_seed(seed)\n",
    "\n",
    "torch.cuda.empty_cache()\n",
    "\n",
    "device = torch.device(\"cuda:0\" if torch.cuda.is_available() else \"cpu\")\n",
    "print(device)"
   ]
  },
  {
   "cell_type": "markdown",
   "metadata": {
    "id": "z7hCepAWyzjQ"
   },
   "source": [
    "## **Parameters**"
   ]
  },
  {
   "cell_type": "markdown",
   "metadata": {
    "id": "dvmHgMALy6SQ"
   },
   "source": [
    "### Dataset Parameters"
   ]
  },
  {
   "cell_type": "code",
   "execution_count": null,
   "metadata": {
    "id": "ZPaayr7SVkp6"
   },
   "outputs": [],
   "source": [
    "test_ratio = 0.8\n",
    "val_and_test_ratio = 0.5\n",
    "windowSize = 25\n",
    "batch_size = 64\n",
    "no_of_PCA_components = 30"
   ]
  },
  {
   "cell_type": "markdown",
   "metadata": {
    "id": "Gx16jdZty2lL"
   },
   "source": [
    "### Model Parameters"
   ]
  },
  {
   "cell_type": "code",
   "execution_count": null,
   "metadata": {
    "id": "TtR6i2Df4eIg"
   },
   "outputs": [],
   "source": [
    "# model architecture\n",
    "A, B, C, D = 64, 32, 16, 16\n",
    "\n",
    "# EM Iterations\n",
    "em_iters = 2\n",
    "\n",
    "# PCA Componenets\n",
    "pca_components = 30\n",
    "\n",
    "# Epochs\n",
    "epochs = 50\n",
    "\n",
    "# Learning rate\n",
    "lr = 3e-3\n",
    "\n",
    "# Weight Decay\n",
    "wd = 2e-7\n",
    "\n",
    "# Test Intervals\n",
    "test_intervals = 1\n",
    "\n",
    "# Log Interval\n",
    "log_interval = 10\n",
    "\n",
    "# No. of classes\n",
    "num_class = 16"
   ]
  },
  {
   "cell_type": "markdown",
   "metadata": {
    "id": "QeXpt6io3znQ"
   },
   "source": [
    "## **Loading Data**"
   ]
  },
  {
   "cell_type": "markdown",
   "metadata": {
    "id": "cowVRmhKVe3B"
   },
   "source": [
    "#### Defining Required Functions"
   ]
  },
  {
   "cell_type": "code",
   "execution_count": null,
   "metadata": {
    "id": "VhxVJKj8Vohj"
   },
   "outputs": [],
   "source": [
    "def loadData():\n",
    "    images = sio.loadmat('Data/IndianPines/Indian_pines_corrected.mat')['indian_pines_corrected']\n",
    "    labels = sio.loadmat('Data/IndianPines/Indian_pines_gt.mat')['indian_pines_gt']\n",
    "    return images, labels"
   ]
  },
  {
   "cell_type": "code",
   "execution_count": null,
   "metadata": {
    "id": "AkWk5WP6VqsP"
   },
   "outputs": [],
   "source": [
    "def applyPCA(X, n_components=no_of_PCA_components, seed=seed):\n",
    "    newX = np.reshape(X, (-1, X.shape[2]))\n",
    "    pca = PCA(n_components=n_components, whiten=True, random_state=seed)\n",
    "    newX = pca.fit_transform(newX)\n",
    "    newX = np.reshape(newX, (X.shape[0], X.shape[1], n_components))\n",
    "    return newX"
   ]
  },
  {
   "cell_type": "code",
   "execution_count": null,
   "metadata": {
    "id": "lUMwqDrtVs0F"
   },
   "outputs": [],
   "source": [
    "def padWithZeros(X, margin=2):\n",
    "    newX = np.zeros((X.shape[0] + 2*margin, X.shape[1] + 2*margin, X.shape[2]))\n",
    "    x_offset = margin\n",
    "    y_offset = margin\n",
    "    newX [x_offset : X.shape[0] + x_offset, y_offset : X.shape[1] + y_offset, :] = X\n",
    "    return newX"
   ]
  },
  {
   "cell_type": "code",
   "execution_count": null,
   "metadata": {
    "id": "fcj3-RsNVuvl"
   },
   "outputs": [],
   "source": [
    "def createImageCubes(X, y, windowSize=windowSize, removeZeroLabels=True):\n",
    "    margin = int((windowSize-1)/2)\n",
    "    zeroPaddedX = padWithZeros(X, margin=margin)\n",
    "    \n",
    "    patchesData = np.zeros((X.shape[0]*X.shape[1], windowSize, windowSize, X.shape[2]))\n",
    "    patchesLabels = np.zeros((X.shape[0] * X.shape[1]))\n",
    "    patchIndex = 0\n",
    "    \n",
    "    for r in range(margin, zeroPaddedX.shape[0] - margin):\n",
    "        for c in range(margin, zeroPaddedX.shape[1] - margin):\n",
    "            patch = zeroPaddedX[r - margin: r + margin + 1, c - margin:c + margin + 1]\n",
    "            patchesData[patchIndex, :, :, :] = patch\n",
    "            patchesLabels[patchIndex] = y[r-margin, c-margin]\n",
    "            patchIndex += 1\n",
    "\n",
    "    if removeZeroLabels:\n",
    "        patchesData = patchesData[patchesLabels > 0, :, :, :]\n",
    "        patchesLabels = patchesLabels[patchesLabels > 0]\n",
    "        patchesLabels -= 1\n",
    "    \n",
    "    return patchesData, patchesLabels"
   ]
  },
  {
   "cell_type": "code",
   "execution_count": null,
   "metadata": {
    "id": "_zPDW-7XVxXl"
   },
   "outputs": [],
   "source": [
    "def dataSplit(X, y, val_and_test_ratio=val_and_test_ratio, test_ratio=test_ratio, random_state=seed):\n",
    "    X_train, X_val_and_test, y_train, y_val_and_test = train_test_split(X, y, test_size=val_and_test_ratio, random_state=random_state, stratify=y)\n",
    "    X_val, X_test, y_val, y_test = train_test_split(X_val_and_test, y_val_and_test, test_size=test_ratio, random_state=random_state, stratify=y_val_and_test)\n",
    "    return X_train, y_train, X_val, y_val, X_test, y_test"
   ]
  },
  {
   "cell_type": "code",
   "execution_count": null,
   "metadata": {
    "id": "WyxuQV9OV0LS"
   },
   "outputs": [],
   "source": [
    "def convertToDataloader(X_train, y_train, X_val, y_val, X_test, y_test, batch_size=batch_size, K=no_of_PCA_components):\n",
    "\n",
    "    X_train = torch.Tensor(X_train)\n",
    "    y_train = torch.Tensor(y_train)\n",
    "    X_val = torch.Tensor(X_val)\n",
    "    y_val = torch.Tensor(y_val)\n",
    "    X_test = torch.Tensor(X_test)\n",
    "    y_test = torch.Tensor(y_test)\n",
    "\n",
    "    train_dataset = torch.utils.data.TensorDataset(X_train, y_train)\n",
    "    val_dataset = torch.utils.data.TensorDataset(X_val, y_val)\n",
    "    test_dataset = torch.utils.data.TensorDataset(X_test, y_test)\n",
    "\n",
    "    train_dataloader = torch.utils.data.DataLoader(train_dataset, batch_size=batch_size, shuffle=True)\n",
    "    val_dataloader = torch.utils.data.DataLoader(val_dataset, batch_size=batch_size)\n",
    "    test_dataloader = torch.utils.data.DataLoader(test_dataset, batch_size=batch_size)\n",
    "\n",
    "    return train_dataloader, val_dataloader, test_dataloader"
   ]
  },
  {
   "cell_type": "markdown",
   "metadata": {
    "id": "pQNIH-ClV26m"
   },
   "source": [
    "#### Loading Data"
   ]
  },
  {
   "cell_type": "code",
   "execution_count": null,
   "metadata": {
    "colab": {
     "base_uri": "https://localhost:8080/"
    },
    "id": "X3X-GTxKV2qx",
    "outputId": "39346109-d6e0-419b-8d43-1cd3eb63bb9c"
   },
   "outputs": [
    {
     "data": {
      "text/plain": [
       "((145, 145, 200), (145, 145))"
      ]
     },
     "execution_count": 15,
     "metadata": {
      "tags": []
     },
     "output_type": "execute_result"
    }
   ],
   "source": [
    "X, y = loadData()\n",
    "X.shape, y.shape"
   ]
  },
  {
   "cell_type": "code",
   "execution_count": null,
   "metadata": {
    "colab": {
     "base_uri": "https://localhost:8080/"
    },
    "id": "AS6ZWMX5V6gI",
    "outputId": "17005c8f-0c73-42f2-d5f8-ecaaf955e546"
   },
   "outputs": [
    {
     "data": {
      "text/plain": [
       "(145, 145, 30)"
      ]
     },
     "execution_count": 16,
     "metadata": {
      "tags": []
     },
     "output_type": "execute_result"
    }
   ],
   "source": [
    "X = applyPCA(X)\n",
    "X.shape"
   ]
  },
  {
   "cell_type": "code",
   "execution_count": null,
   "metadata": {
    "colab": {
     "base_uri": "https://localhost:8080/"
    },
    "id": "4rglm_OIV9Nl",
    "outputId": "c6f495f6-6ac9-4912-9cac-d734cfe1862b"
   },
   "outputs": [
    {
     "data": {
      "text/plain": [
       "((10249, 25, 25, 30), (10249,))"
      ]
     },
     "execution_count": 17,
     "metadata": {
      "tags": []
     },
     "output_type": "execute_result"
    }
   ],
   "source": [
    "X, y = createImageCubes(X, y)\n",
    "X.shape, y.shape"
   ]
  },
  {
   "cell_type": "code",
   "execution_count": null,
   "metadata": {
    "colab": {
     "base_uri": "https://localhost:8080/"
    },
    "id": "I9Ez4Ls8V_If",
    "outputId": "70ff28d2-d39a-4b4b-9cce-241537f54497"
   },
   "outputs": [
    {
     "data": {
      "text/plain": [
       "((10249, 30, 25, 25), (10249,))"
      ]
     },
     "execution_count": 18,
     "metadata": {
      "tags": []
     },
     "output_type": "execute_result"
    }
   ],
   "source": [
    "X = X.transpose(0, 3, 1, 2)\n",
    "X.shape, y.shape"
   ]
  },
  {
   "cell_type": "code",
   "execution_count": null,
   "metadata": {
    "colab": {
     "base_uri": "https://localhost:8080/"
    },
    "id": "JVCEEFM6WAvs",
    "outputId": "0a89e8de-18a9-4495-b279-9ea2a0b1f759"
   },
   "outputs": [
    {
     "name": "stdout",
     "output_type": "stream",
     "text": [
      "X Train:  (5124, 30, 25, 25)\n",
      "Y Train:  (5124,)\n",
      "X Val:  (1025, 30, 25, 25)\n",
      "Y Val:  (1025,)\n",
      "X Test:  (4100, 30, 25, 25)\n",
      "Y Test:  (4100,)\n"
     ]
    }
   ],
   "source": [
    "X_train, y_train, X_val, y_val, X_test, y_test = dataSplit(X, y)\n",
    "print(\"X Train: \", X_train.shape)\n",
    "print(\"Y Train: \", y_train.shape)\n",
    "print(\"X Val: \", X_val.shape)\n",
    "print(\"Y Val: \", y_val.shape)\n",
    "print(\"X Test: \", X_test.shape)\n",
    "print(\"Y Test: \", y_test.shape)"
   ]
  },
  {
   "cell_type": "code",
   "execution_count": null,
   "metadata": {
    "id": "a9E56ZwIWC6R"
   },
   "outputs": [],
   "source": [
    "train_loader, val_loader, test_loader = convertToDataloader(X_train, y_train, X_val, y_val, X_test, y_test)"
   ]
  },
  {
   "cell_type": "code",
   "execution_count": null,
   "metadata": {
    "id": "Mw6iBRJpWETi"
   },
   "outputs": [],
   "source": [
    "dataloaders = {'train': train_loader, 'valid': val_loader,'test': test_loader}"
   ]
  },
  {
   "cell_type": "markdown",
   "metadata": {
    "id": "0D_5INAM4u33"
   },
   "source": [
    "## **Model**"
   ]
  },
  {
   "cell_type": "markdown",
   "metadata": {
    "id": "CBmkAG3_43c-"
   },
   "source": [
    "#### Capsule Network Model"
   ]
  },
  {
   "cell_type": "code",
   "execution_count": null,
   "metadata": {
    "id": "Qp1hds7dy_9v"
   },
   "outputs": [],
   "source": [
    "class PrimaryCaps(nn.Module):\n",
    "    \n",
    "    def __init__(self, A=32, B=32, K=1, P=4, stride=1):\n",
    "        super(PrimaryCaps, self).__init__()\n",
    "        self.pose = nn.Conv2d(in_channels=A, out_channels=B*P*P,\n",
    "                            kernel_size=K, stride=stride, bias=True)\n",
    "        self.a = nn.Conv2d(in_channels=A, out_channels=B,\n",
    "                            kernel_size=K, stride=stride, bias=True)\n",
    "        self.sigmoid = nn.Sigmoid()\n",
    "\n",
    "    def forward(self, x):\n",
    "        p = self.pose(x)\n",
    "        a = self.a(x)\n",
    "        a = self.sigmoid(a)\n",
    "        out = torch.cat([p, a], dim=1)\n",
    "        out = out.permute(0, 2, 3, 1)\n",
    "        return out"
   ]
  },
  {
   "cell_type": "code",
   "execution_count": null,
   "metadata": {
    "id": "Ey4FeNfp42l7"
   },
   "outputs": [],
   "source": [
    "class ConvCaps(nn.Module):\n",
    "\n",
    "    def __init__(self, B=32, C=32, K=3, P=4, stride=2, iters=3,\n",
    "                 coor_add=False, w_shared=False):\n",
    "        super(ConvCaps, self).__init__()\n",
    "        self.B = B\n",
    "        self.C = C\n",
    "        self.K = K\n",
    "        self.P = P\n",
    "        self.psize = P*P\n",
    "        self.stride = stride\n",
    "        self.iters = iters\n",
    "        self.coor_add = coor_add\n",
    "        self.w_shared = w_shared\n",
    "        self.eps = 1e-8\n",
    "        self._lambda = 1e-03\n",
    "        self.ln_2pi = torch.cuda.FloatTensor(1).fill_(math.log(2*math.pi))\n",
    "\n",
    "        self.beta_u = nn.Parameter(torch.zeros(C))\n",
    "        self.beta_a = nn.Parameter(torch.zeros(C))\n",
    "\n",
    "        self.weights = nn.Parameter(torch.randn(1, K*K*B, C, P, P))\n",
    "        self.sigmoid = nn.Sigmoid()\n",
    "        self.softmax = nn.Softmax(dim=2)\n",
    "\n",
    "    def m_step(self, a_in, r, v, eps, b, B, C, psize):\n",
    "\n",
    "        r = r * a_in\n",
    "        r = r / (r.sum(dim=2, keepdim=True) + eps)\n",
    "        r_sum = r.sum(dim=1, keepdim=True)\n",
    "        coeff = r / (r_sum + eps)\n",
    "        coeff = coeff.view(b, B, C, 1)\n",
    "\n",
    "        mu = torch.sum(coeff * v, dim=1, keepdim=True)\n",
    "        sigma_sq = torch.sum(coeff * (v - mu)**2, dim=1, keepdim=True) + eps\n",
    "\n",
    "        r_sum = r_sum.view(b, C, 1)\n",
    "        sigma_sq = sigma_sq.view(b, C, psize)\n",
    "        cost_h = (self.beta_u.view(C, 1) + torch.log(sigma_sq.sqrt())) * r_sum\n",
    "\n",
    "        a_out = self.sigmoid(self._lambda*(self.beta_a - cost_h.sum(dim=2)))\n",
    "        sigma_sq = sigma_sq.view(b, 1, C, psize)\n",
    "\n",
    "        return a_out, mu, sigma_sq\n",
    "\n",
    "    def e_step(self, mu, sigma_sq, a_out, v, eps, b, C):\n",
    "\n",
    "        ln_p_j_h = -1. * (v - mu)**2 / (2 * sigma_sq) \\\n",
    "                    - torch.log(sigma_sq.sqrt()) \\\n",
    "                    - 0.5*self.ln_2pi\n",
    "\n",
    "        ln_ap = ln_p_j_h.sum(dim=3) + torch.log(a_out.view(b, 1, C))\n",
    "        r = self.softmax(ln_ap)\n",
    "        return r\n",
    "\n",
    "    def caps_em_routing(self, v, a_in, C, eps):\n",
    "\n",
    "        b, B, c, psize = v.shape\n",
    "        assert c == C\n",
    "        assert (b, B, 1) == a_in.shape\n",
    "\n",
    "        r = torch.cuda.FloatTensor(b, B, C).fill_(1./C)\n",
    "        for iter_ in range(self.iters):\n",
    "            a_out, mu, sigma_sq = self.m_step(a_in, r, v, eps, b, B, C, psize)\n",
    "            if iter_ < self.iters - 1:\n",
    "                r = self.e_step(mu, sigma_sq, a_out, v, eps, b, C)\n",
    "\n",
    "        return mu, a_out\n",
    "\n",
    "    def add_pathes(self, x, B, K, psize, stride):\n",
    "\n",
    "        b, h, w, c = x.shape\n",
    "        assert h == w\n",
    "        assert c == B*(psize+1)\n",
    "        oh = ow = int(((h - K )/stride)+ 1)\n",
    "        idxs = [[(h_idx + k_idx) \\\n",
    "                for k_idx in range(0, K)] \\\n",
    "                for h_idx in range(0, h - K + 1, stride)]\n",
    "        x = x[:, idxs, :, :]\n",
    "        x = x[:, :, :, idxs, :]\n",
    "        x = x.permute(0, 1, 3, 2, 4, 5).contiguous()\n",
    "        return x, oh, ow\n",
    "\n",
    "    def transform_view(self, x, w, C, P, w_shared=False):\n",
    "\n",
    "        b, B, psize = x.shape\n",
    "        assert psize == P*P\n",
    "\n",
    "        x = x.view(b, B, 1, P, P)\n",
    "        if w_shared:\n",
    "            hw = int(B / w.size(1))\n",
    "            w = w.repeat(1, hw, 1, 1, 1)\n",
    "\n",
    "        w = w.repeat(b, 1, 1, 1, 1)\n",
    "        x = x.repeat(1, 1, C, 1, 1)\n",
    "        v = torch.matmul(x, w)\n",
    "        v = v.view(b, B, C, P*P)\n",
    "        return v\n",
    "\n",
    "    def add_coord(self, v, b, h, w, B, C, psize):\n",
    "        \n",
    "        assert h == w\n",
    "        v = v.view(b, h, w, B, C, psize)\n",
    "        coor = torch.arange(h, dtype=torch.float32) / h\n",
    "        coor_h = torch.cuda.FloatTensor(1, h, 1, 1, 1, self.psize).fill_(0.)\n",
    "        coor_w = torch.cuda.FloatTensor(1, 1, w, 1, 1, self.psize).fill_(0.)\n",
    "        coor_h[0, :, 0, 0, 0, 0] = coor\n",
    "        coor_w[0, 0, :, 0, 0, 1] = coor\n",
    "        v = v + coor_h + coor_w\n",
    "        v = v.view(b, h*w*B, C, psize)\n",
    "        return v\n",
    "\n",
    "    def forward(self, x):\n",
    "        b, h, w, c = x.shape\n",
    "        if not self.w_shared:\n",
    "            x, oh, ow = self.add_pathes(x, self.B, self.K, self.psize, self.stride)\n",
    "\n",
    "            p_in = x[:, :, :, :, :, :self.B*self.psize].contiguous()\n",
    "            a_in = x[:, :, :, :, :, self.B*self.psize:].contiguous()\n",
    "            p_in = p_in.view(b*oh*ow, self.K*self.K*self.B, self.psize)\n",
    "            a_in = a_in.view(b*oh*ow, self.K*self.K*self.B, 1)\n",
    "            v = self.transform_view(p_in, self.weights, self.C, self.P)\n",
    "\n",
    "            p_out, a_out = self.caps_em_routing(v, a_in, self.C, self.eps)\n",
    "            p_out = p_out.view(b, oh, ow, self.C*self.psize)\n",
    "            a_out = a_out.view(b, oh, ow, self.C)\n",
    "            out = torch.cat([p_out, a_out], dim=3)\n",
    "        else:\n",
    "            assert c == self.B*(self.psize+1)\n",
    "            assert 1 == self.K\n",
    "            assert 1 == self.stride\n",
    "            p_in = x[:, :, :, :self.B*self.psize].contiguous()\n",
    "            p_in = p_in.view(b, h*w*self.B, self.psize)\n",
    "            a_in = x[:, :, :, self.B*self.psize:].contiguous()\n",
    "            a_in = a_in.view(b, h*w*self.B, 1)\n",
    "\n",
    "            v = self.transform_view(p_in, self.weights, self.C, self.P, self.w_shared)\n",
    "\n",
    "            if self.coor_add:\n",
    "                v = self.add_coord(v, b, h, w, self.B, self.C, self.psize)\n",
    "\n",
    "            _, out = self.caps_em_routing(v, a_in, self.C, self.eps)\n",
    "\n",
    "        return out"
   ]
  },
  {
   "cell_type": "code",
   "execution_count": null,
   "metadata": {
    "id": "GKbBGB1FzGPw"
   },
   "outputs": [],
   "source": [
    "class CapsNet(nn.Module):\n",
    "\n",
    "    def __init__(self, A=32, B=32, C=32, D=32, E=10, K=3, P=4, iters=3):\n",
    "        super(CapsNet, self).__init__()\n",
    "        self.conv1 = nn.Conv2d(in_channels=pca_components, out_channels=A,\n",
    "                               kernel_size=5, stride=2, padding=2)\n",
    "        self.bn1 = nn.BatchNorm2d(num_features=A, eps=0.001,\n",
    "                                 momentum=0.1, affine=True)\n",
    "        self.relu1 = nn.ReLU(inplace=False)\n",
    "        self.primary_caps = PrimaryCaps(A, B, 1, P, stride=1)\n",
    "        self.conv_caps1 = ConvCaps(B, C, K, P, stride=2, iters=iters)\n",
    "        self.conv_caps2 = ConvCaps(C, D, K, P, stride=1, iters=iters)\n",
    "        self.class_caps = ConvCaps(D, E, 1, P, stride=1, iters=iters,\n",
    "                                        coor_add=True, w_shared=True)\n",
    "\n",
    "    def forward(self, x):\n",
    "        x = self.conv1(x)\n",
    "        x = self.bn1(x)\n",
    "        x = self.relu1(x)\n",
    "        x = self.primary_caps(x)\n",
    "        x = self.conv_caps1(x)\n",
    "        x = self.conv_caps2(x)\n",
    "        x = self.class_caps(x)\n",
    "        return x"
   ]
  },
  {
   "cell_type": "markdown",
   "metadata": {
    "id": "4ypxKKRG5hvO"
   },
   "source": [
    "#### Loss Function"
   ]
  },
  {
   "cell_type": "code",
   "execution_count": null,
   "metadata": {
    "id": "4J7NoS985UHc"
   },
   "outputs": [],
   "source": [
    "class SpreadLoss(_Loss):\n",
    "\n",
    "    def __init__(self, m_min=0.2, m_max=0.9, num_class=16):\n",
    "        super(SpreadLoss, self).__init__()\n",
    "        self.m_min = m_min\n",
    "        self.m_max = m_max\n",
    "        self.num_class = num_class\n",
    "\n",
    "    def forward(self, x, target, r):\n",
    "        b, E = x.shape\n",
    "        assert E == self.num_class\n",
    "        margin = self.m_min + (self.m_max - self.m_min)*r\n",
    "\n",
    "        at = torch.cuda.FloatTensor(b).fill_(0)\n",
    "        for i, a in enumerate(target):\n",
    "            lb = int(a.item())\n",
    "            at[i] = x[i][lb]\n",
    "        at = at.view(b, 1).repeat(1, E)\n",
    "\n",
    "        zeros = x.new_zeros(x.shape)\n",
    "        loss = torch.max(margin - (at - x), zeros)\n",
    "        loss = loss**2\n",
    "        loss = loss.sum() / b - margin**2\n",
    "\n",
    "        return loss"
   ]
  },
  {
   "cell_type": "markdown",
   "metadata": {
    "id": "05AZSkZ16Jxp"
   },
   "source": [
    "## **Training Setup**"
   ]
  },
  {
   "cell_type": "markdown",
   "metadata": {
    "id": "suwWgu2z6rg8"
   },
   "source": [
    "#### Data Preparation"
   ]
  },
  {
   "cell_type": "code",
   "execution_count": null,
   "metadata": {
    "id": "kIgNfsLi5jlU"
   },
   "outputs": [],
   "source": [
    "train_loader = dataloaders['train']\n",
    "valid_loader = dataloaders['valid']\n",
    "test_loader = dataloaders['test']"
   ]
  },
  {
   "cell_type": "markdown",
   "metadata": {
    "id": "aq1YU_XD7Cco"
   },
   "source": [
    "#### Accuracy Function"
   ]
  },
  {
   "cell_type": "code",
   "execution_count": null,
   "metadata": {
    "id": "w7v8XF9M6uQR"
   },
   "outputs": [],
   "source": [
    "def accuracy(output, target):\n",
    "    y_pred = output.argmax(dim=1).float()\n",
    "    res = accuracy_score(target.to('cpu'), y_pred.to('cpu')) * 100\n",
    "    return res"
   ]
  },
  {
   "cell_type": "markdown",
   "metadata": {
    "id": "hvXyaGUH7HLo"
   },
   "source": [
    "#### Learning Rate Decay function"
   ]
  },
  {
   "cell_type": "code",
   "execution_count": null,
   "metadata": {
    "id": "EW1wGZrS7EQA"
   },
   "outputs": [],
   "source": [
    "def exp_lr_decay(optimizer, global_step, init_lr = 3e-3, decay_steps = 20000,\n",
    "                                        decay_rate = 0.96, lr_clip = 3e-3 ,staircase=False):\n",
    "        \n",
    "    if staircase:\n",
    "        lr = (init_lr * decay_rate**(global_step // decay_steps)) \n",
    "    else:\n",
    "        lr = (init_lr * decay_rate**(global_step / decay_steps)) \n",
    "    \n",
    "    for param_group in optimizer.param_groups:\n",
    "        param_group['lr'] = lr"
   ]
  },
  {
   "cell_type": "markdown",
   "metadata": {
    "id": "Rkhe68NX7P8p"
   },
   "source": [
    "#### Average Meter Class"
   ]
  },
  {
   "cell_type": "code",
   "execution_count": null,
   "metadata": {
    "id": "WdmfQJTt7KG8"
   },
   "outputs": [],
   "source": [
    "class AverageMeter(object):\n",
    "\n",
    "    def __init__(self):\n",
    "        self.reset()\n",
    "\n",
    "    def reset(self):\n",
    "        self.val = 0\n",
    "        self.avg = 0\n",
    "        self.sum = 0\n",
    "        self.count = 0\n",
    "\n",
    "    def update(self, val, n=1):\n",
    "        self.val = val\n",
    "        self.sum += val * n\n",
    "        self.count += n\n",
    "        self.avg = self.sum / self.count"
   ]
  },
  {
   "cell_type": "markdown",
   "metadata": {
    "id": "6zWNMYc87U-4"
   },
   "source": [
    "#### Train Function"
   ]
  },
  {
   "cell_type": "code",
   "execution_count": null,
   "metadata": {
    "id": "Gvsb63dX7R_X"
   },
   "outputs": [],
   "source": [
    "def train(train_loader, model, criterion, optimizer, epoch, device):\n",
    "    batch_time = AverageMeter()\n",
    "    data_time = AverageMeter()\n",
    "\n",
    "    model.train()\n",
    "    train_len = len(train_loader)\n",
    "    epoch_acc = 0\n",
    "    end = time.time()\n",
    "\n",
    "    for batch_idx, (data, target) in enumerate(train_loader):\n",
    "        data_time.update(time.time() - end)\n",
    "\n",
    "        data, target = data.to(device), target.to(device)\n",
    "        optimizer.zero_grad()\n",
    "        output = model(data)\n",
    "        r = (1.*batch_idx + (epoch-1)*train_len) / (epochs*train_len)\n",
    "        loss = criterion(output, target, r)\n",
    "        acc = accuracy(output, target)\n",
    "        \n",
    "        global_step = (batch_idx+1) + (epoch - 1) * len(train_loader) \n",
    "        exp_lr_decay(optimizer=optimizer, global_step=global_step)\n",
    "        \n",
    "        loss.backward()\n",
    "        optimizer.step()\n",
    "\n",
    "        batch_time.update(time.time() - end)\n",
    "        end = time.time()\n",
    "\n",
    "        epoch_acc += acc\n",
    "        if batch_idx % log_interval == 0:\n",
    "            print('Train Epoch: {}\\t[{}/{} ({:.0f}%)]\\t'\n",
    "                  'Loss: {:.6f}\\tAccuracy: {:.6f}\\t'\n",
    "                  'Time {batch_time.val:.3f} ({batch_time.avg:.3f})\\t'\n",
    "                  'Data {data_time.val:.3f} ({data_time.avg:.3f})'.format(\n",
    "                  epoch, batch_idx * len(data), len(train_loader.dataset),\n",
    "                  100. * batch_idx / len(train_loader),\n",
    "                  loss.item(), acc,\n",
    "                  batch_time=batch_time, data_time=data_time))\n",
    "            \n",
    "    return epoch_acc"
   ]
  },
  {
   "cell_type": "markdown",
   "metadata": {
    "id": "iZzi5Vn27d-X"
   },
   "source": [
    "#### Test Function"
   ]
  },
  {
   "cell_type": "code",
   "execution_count": null,
   "metadata": {
    "id": "49eSAz-I7dTP"
   },
   "outputs": [],
   "source": [
    "def test(test_loader, model, criterion, device, test=False):\n",
    "    model.eval()\n",
    "    test_loss = 0\n",
    "    acc = 0\n",
    "    test_len = len(test_loader)\n",
    "    with torch.no_grad():\n",
    "        for data, target in test_loader:\n",
    "            data, target = data.to(device), target.to(device)\n",
    "            output = model(data)\n",
    "            test_loss += criterion(output, target, r=1).item()\n",
    "            acc += accuracy(output, target)\n",
    "\n",
    "    test_loss /= test_len\n",
    "    acc /= test_len\n",
    "    if test:\n",
    "        print('\\nTest set: Average loss: {:.6f}, Accuracy: {:.6f} \\n'.format(\n",
    "        test_loss, acc))\n",
    "    else:\n",
    "        print('\\nVal set: Average loss: {:.6f}, Accuracy: {:.6f} \\n'.format(\n",
    "            test_loss, acc))\n",
    "\n",
    "    return test_loss, acc"
   ]
  },
  {
   "cell_type": "markdown",
   "metadata": {
    "id": "5hRWF2apsMzc"
   },
   "source": [
    "## **Training Process**"
   ]
  },
  {
   "cell_type": "markdown",
   "metadata": {
    "id": "SGwX3eimsZmA"
   },
   "source": [
    "#### Model Initialization"
   ]
  },
  {
   "cell_type": "code",
   "execution_count": null,
   "metadata": {
    "colab": {
     "base_uri": "https://localhost:8080/"
    },
    "id": "8_YYc6YxsXZV",
    "outputId": "c124fbdb-9d50-47ca-a201-dcd1dd5022dd"
   },
   "outputs": [],
   "source": [
    "model = CapsNet(A=A, B=B, C=C, D=D, E=num_class,\n",
    "                    iters=em_iters).to(device)"
   ]
  },
  {
   "cell_type": "markdown",
   "metadata": {
    "id": "rZwvqJ_4ZZaI"
   },
   "source": [
    "#### Model Summary"
   ]
  },
  {
   "cell_type": "code",
   "execution_count": null,
   "metadata": {
    "colab": {
     "base_uri": "https://localhost:8080/"
    },
    "id": "mk54JHDaZY6l",
    "outputId": "1f645236-bf5f-4328-ed97-a662a2ee5e22"
   },
   "outputs": [
    {
     "name": "stdout",
     "output_type": "stream",
     "text": [
      "conv1.weight : 64x30x5x5 = 48000\n",
      "conv1.bias : 64\n",
      "bn1.weight : 64\n",
      "bn1.bias : 64\n",
      "primary_caps.pose.weight : 512x64x1x1 = 32768\n",
      "primary_caps.pose.bias : 512\n",
      "primary_caps.a.weight : 32x64x1x1 = 2048\n",
      "primary_caps.a.bias : 32\n",
      "conv_caps1.beta_u : 16\n",
      "conv_caps1.beta_a : 16\n",
      "conv_caps1.weights : 1x288x16x4x4 = 73728\n",
      "conv_caps2.beta_u : 16\n",
      "conv_caps2.beta_a : 16\n",
      "conv_caps2.weights : 1x144x16x4x4 = 36864\n",
      "class_caps.beta_u : 16\n",
      "class_caps.beta_a : 16\n",
      "class_caps.weights : 1x16x16x4x4 = 4096\n",
      "\n",
      " Total Trainable Parameters:  198336\n"
     ]
    }
   ],
   "source": [
    "def model_summary(model):\n",
    "    total_param = 0\n",
    "    for name, param in model.named_parameters():\n",
    "        if param.requires_grad:\n",
    "            num_param = np.prod(param.size())\n",
    "            if param.dim() > 1:\n",
    "                print(name, ':', 'x'.join(str(x) for x in list(param.size())), '=', num_param)\n",
    "            else:\n",
    "                print(name, ':', num_param)\n",
    "            total_param += num_param\n",
    "    print(\"\\n Total Trainable Parameters: \", total_param)\n",
    "\n",
    "model_summary(model)"
   ]
  },
  {
   "cell_type": "markdown",
   "metadata": {
    "id": "R0JocqrGZmIN"
   },
   "source": [
    "#### Training Time!"
   ]
  },
  {
   "cell_type": "code",
   "execution_count": null,
   "metadata": {
    "id": "fEPfkoFhZva8"
   },
   "outputs": [],
   "source": [
    "criterion = SpreadLoss(num_class=num_class, m_min=0.2, m_max=0.5)\n",
    "optimizer = optim.Adam(model.parameters(), lr = lr, weight_decay=wd)"
   ]
  },
  {
   "cell_type": "code",
   "execution_count": null,
   "metadata": {
    "colab": {
     "base_uri": "https://localhost:8080/"
    },
    "id": "ayyIRBgr7goB",
    "outputId": "f52d0130-1a54-4280-ba2a-cd8ac150c929"
   },
   "outputs": [
    {
     "name": "stdout",
     "output_type": "stream",
     "text": [
      "\n",
      "Val set: Average loss: 4.828254, Accuracy: 0.919118 \n",
      "\n",
      "Train Epoch: 1\t[0/5124 (0%)]\tLoss: 1.088566\tAccuracy: 3.125000\tTime 0.871 (0.871)\tData 0.004 (0.004)\n",
      "Train Epoch: 1\t[640/5124 (12%)]\tLoss: 0.363455\tAccuracy: 29.687500\tTime 0.831 (0.834)\tData 0.002 (0.003)\n",
      "Train Epoch: 1\t[1280/5124 (25%)]\tLoss: 0.162759\tAccuracy: 73.437500\tTime 0.833 (0.833)\tData 0.002 (0.003)\n",
      "Train Epoch: 1\t[1920/5124 (37%)]\tLoss: 0.065871\tAccuracy: 78.125000\tTime 0.832 (0.833)\tData 0.002 (0.003)\n",
      "Train Epoch: 1\t[2560/5124 (49%)]\tLoss: 0.066623\tAccuracy: 89.062500\tTime 0.834 (0.833)\tData 0.002 (0.003)\n",
      "Train Epoch: 1\t[3200/5124 (62%)]\tLoss: 0.066744\tAccuracy: 79.687500\tTime 0.838 (0.834)\tData 0.003 (0.003)\n",
      "Train Epoch: 1\t[3840/5124 (74%)]\tLoss: 0.024031\tAccuracy: 93.750000\tTime 0.837 (0.834)\tData 0.002 (0.003)\n",
      "Train Epoch: 1\t[4480/5124 (86%)]\tLoss: 0.021388\tAccuracy: 93.750000\tTime 0.841 (0.835)\tData 0.002 (0.003)\n",
      "Train Epoch: 1\t[320/5124 (99%)]\tLoss: 0.051532\tAccuracy: 100.000000\tTime 0.061 (0.826)\tData 0.000 (0.003)\n",
      "\n",
      "Val set: Average loss: 0.825393, Accuracy: 94.944853 \n",
      "\n",
      "-------------------- HIGHEST ACCURACY ---------------------------\n",
      "Train Epoch: 2\t[0/5124 (0%)]\tLoss: 0.014242\tAccuracy: 96.875000\tTime 0.836 (0.836)\tData 0.003 (0.003)\n",
      "Train Epoch: 2\t[640/5124 (12%)]\tLoss: 0.017100\tAccuracy: 95.312500\tTime 0.843 (0.841)\tData 0.002 (0.003)\n",
      "Train Epoch: 2\t[1280/5124 (25%)]\tLoss: 0.015210\tAccuracy: 93.750000\tTime 0.845 (0.842)\tData 0.002 (0.003)\n",
      "Train Epoch: 2\t[1920/5124 (37%)]\tLoss: 0.009548\tAccuracy: 98.437500\tTime 0.845 (0.843)\tData 0.003 (0.003)\n",
      "Train Epoch: 2\t[2560/5124 (49%)]\tLoss: 0.010927\tAccuracy: 95.312500\tTime 0.846 (0.843)\tData 0.003 (0.003)\n",
      "Train Epoch: 2\t[3200/5124 (62%)]\tLoss: 0.006872\tAccuracy: 98.437500\tTime 0.844 (0.843)\tData 0.002 (0.003)\n",
      "Train Epoch: 2\t[3840/5124 (74%)]\tLoss: 0.009696\tAccuracy: 100.000000\tTime 0.844 (0.844)\tData 0.002 (0.003)\n",
      "Train Epoch: 2\t[4480/5124 (86%)]\tLoss: 0.010153\tAccuracy: 98.437500\tTime 0.844 (0.844)\tData 0.002 (0.003)\n",
      "Train Epoch: 2\t[320/5124 (99%)]\tLoss: 0.005358\tAccuracy: 100.000000\tTime 0.062 (0.835)\tData 0.000 (0.003)\n",
      "\n",
      "Val set: Average loss: 0.627440, Accuracy: 96.966912 \n",
      "\n",
      "-------------------- HIGHEST ACCURACY ---------------------------\n",
      "Train Epoch: 3\t[0/5124 (0%)]\tLoss: 0.006534\tAccuracy: 98.437500\tTime 0.847 (0.847)\tData 0.003 (0.003)\n",
      "Train Epoch: 3\t[640/5124 (12%)]\tLoss: 0.006693\tAccuracy: 100.000000\tTime 0.852 (0.848)\tData 0.002 (0.003)\n",
      "Train Epoch: 3\t[1280/5124 (25%)]\tLoss: 0.008626\tAccuracy: 96.875000\tTime 0.847 (0.848)\tData 0.003 (0.003)\n",
      "Train Epoch: 3\t[1920/5124 (37%)]\tLoss: 0.002994\tAccuracy: 100.000000\tTime 0.846 (0.848)\tData 0.002 (0.003)\n",
      "Train Epoch: 3\t[2560/5124 (49%)]\tLoss: 0.005942\tAccuracy: 98.437500\tTime 0.848 (0.849)\tData 0.002 (0.003)\n",
      "Train Epoch: 3\t[3200/5124 (62%)]\tLoss: 0.010214\tAccuracy: 92.187500\tTime 0.848 (0.849)\tData 0.002 (0.003)\n",
      "Train Epoch: 3\t[3840/5124 (74%)]\tLoss: 0.005432\tAccuracy: 98.437500\tTime 0.847 (0.849)\tData 0.002 (0.003)\n",
      "Train Epoch: 3\t[4480/5124 (86%)]\tLoss: 0.003657\tAccuracy: 100.000000\tTime 0.850 (0.849)\tData 0.002 (0.003)\n",
      "Train Epoch: 3\t[320/5124 (99%)]\tLoss: 0.010463\tAccuracy: 100.000000\tTime 0.062 (0.840)\tData 0.000 (0.003)\n",
      "\n",
      "Val set: Average loss: 0.580820, Accuracy: 96.875000 \n",
      "\n",
      "Train Epoch: 4\t[0/5124 (0%)]\tLoss: 0.002935\tAccuracy: 98.437500\tTime 0.849 (0.849)\tData 0.003 (0.003)\n",
      "Train Epoch: 4\t[640/5124 (12%)]\tLoss: 0.004461\tAccuracy: 98.437500\tTime 0.852 (0.852)\tData 0.003 (0.003)\n",
      "Train Epoch: 4\t[1280/5124 (25%)]\tLoss: 0.004062\tAccuracy: 100.000000\tTime 0.849 (0.852)\tData 0.002 (0.003)\n",
      "Train Epoch: 4\t[1920/5124 (37%)]\tLoss: 0.004349\tAccuracy: 98.437500\tTime 0.851 (0.852)\tData 0.002 (0.003)\n",
      "Train Epoch: 4\t[2560/5124 (49%)]\tLoss: 0.005386\tAccuracy: 100.000000\tTime 0.851 (0.852)\tData 0.002 (0.003)\n",
      "Train Epoch: 4\t[3200/5124 (62%)]\tLoss: 0.005140\tAccuracy: 100.000000\tTime 0.850 (0.852)\tData 0.002 (0.003)\n",
      "Train Epoch: 4\t[3840/5124 (74%)]\tLoss: 0.003030\tAccuracy: 100.000000\tTime 0.851 (0.852)\tData 0.002 (0.003)\n",
      "Train Epoch: 4\t[4480/5124 (86%)]\tLoss: 0.005906\tAccuracy: 98.437500\tTime 0.854 (0.852)\tData 0.002 (0.003)\n",
      "Train Epoch: 4\t[320/5124 (99%)]\tLoss: 0.006880\tAccuracy: 100.000000\tTime 0.063 (0.842)\tData 0.001 (0.003)\n",
      "\n",
      "Val set: Average loss: 0.549853, Accuracy: 98.437500 \n",
      "\n",
      "-------------------- HIGHEST ACCURACY ---------------------------\n",
      "Train Epoch: 5\t[0/5124 (0%)]\tLoss: 0.002750\tAccuracy: 100.000000\tTime 0.854 (0.854)\tData 0.003 (0.003)\n",
      "Train Epoch: 5\t[640/5124 (12%)]\tLoss: 0.003617\tAccuracy: 98.437500\tTime 0.852 (0.853)\tData 0.002 (0.003)\n",
      "Train Epoch: 5\t[1280/5124 (25%)]\tLoss: 0.003189\tAccuracy: 100.000000\tTime 0.850 (0.852)\tData 0.002 (0.003)\n",
      "Train Epoch: 5\t[1920/5124 (37%)]\tLoss: 0.005160\tAccuracy: 100.000000\tTime 0.854 (0.853)\tData 0.002 (0.003)\n",
      "Train Epoch: 5\t[2560/5124 (49%)]\tLoss: 0.003238\tAccuracy: 100.000000\tTime 0.852 (0.853)\tData 0.002 (0.003)\n",
      "Train Epoch: 5\t[3200/5124 (62%)]\tLoss: 0.001456\tAccuracy: 100.000000\tTime 0.850 (0.852)\tData 0.002 (0.003)\n",
      "Train Epoch: 5\t[3840/5124 (74%)]\tLoss: 0.003951\tAccuracy: 100.000000\tTime 0.851 (0.852)\tData 0.002 (0.003)\n",
      "Train Epoch: 5\t[4480/5124 (86%)]\tLoss: 0.004306\tAccuracy: 100.000000\tTime 0.853 (0.852)\tData 0.003 (0.003)\n",
      "Train Epoch: 5\t[320/5124 (99%)]\tLoss: 0.001797\tAccuracy: 100.000000\tTime 0.062 (0.843)\tData 0.001 (0.003)\n",
      "\n",
      "Val set: Average loss: 0.514788, Accuracy: 98.253676 \n",
      "\n",
      "Train Epoch: 6\t[0/5124 (0%)]\tLoss: 0.002488\tAccuracy: 100.000000\tTime 0.854 (0.854)\tData 0.004 (0.004)\n",
      "Train Epoch: 6\t[640/5124 (12%)]\tLoss: 0.002399\tAccuracy: 100.000000\tTime 0.852 (0.854)\tData 0.002 (0.003)\n",
      "Train Epoch: 6\t[1280/5124 (25%)]\tLoss: 0.002953\tAccuracy: 100.000000\tTime 0.851 (0.854)\tData 0.002 (0.003)\n",
      "Train Epoch: 6\t[1920/5124 (37%)]\tLoss: 0.002827\tAccuracy: 100.000000\tTime 0.851 (0.854)\tData 0.002 (0.003)\n",
      "Train Epoch: 6\t[2560/5124 (49%)]\tLoss: 0.001904\tAccuracy: 100.000000\tTime 0.852 (0.854)\tData 0.002 (0.003)\n",
      "Train Epoch: 6\t[3200/5124 (62%)]\tLoss: 0.002403\tAccuracy: 100.000000\tTime 0.852 (0.854)\tData 0.002 (0.003)\n",
      "Train Epoch: 6\t[3840/5124 (74%)]\tLoss: 0.002560\tAccuracy: 100.000000\tTime 0.852 (0.853)\tData 0.002 (0.003)\n",
      "Train Epoch: 6\t[4480/5124 (86%)]\tLoss: 0.002979\tAccuracy: 100.000000\tTime 0.854 (0.853)\tData 0.002 (0.003)\n",
      "Train Epoch: 6\t[320/5124 (99%)]\tLoss: 0.003361\tAccuracy: 100.000000\tTime 0.062 (0.844)\tData 0.000 (0.003)\n",
      "\n",
      "Val set: Average loss: 0.488176, Accuracy: 98.897059 \n",
      "\n",
      "-------------------- HIGHEST ACCURACY ---------------------------\n",
      "Train Epoch: 7\t[0/5124 (0%)]\tLoss: 0.001461\tAccuracy: 100.000000\tTime 0.851 (0.851)\tData 0.003 (0.003)\n",
      "Train Epoch: 7\t[640/5124 (12%)]\tLoss: 0.001832\tAccuracy: 100.000000\tTime 0.854 (0.853)\tData 0.002 (0.003)\n",
      "Train Epoch: 7\t[1280/5124 (25%)]\tLoss: 0.001610\tAccuracy: 100.000000\tTime 0.854 (0.854)\tData 0.002 (0.003)\n",
      "Train Epoch: 7\t[1920/5124 (37%)]\tLoss: 0.001660\tAccuracy: 100.000000\tTime 0.854 (0.854)\tData 0.003 (0.003)\n",
      "Train Epoch: 7\t[2560/5124 (49%)]\tLoss: 0.002306\tAccuracy: 100.000000\tTime 0.851 (0.853)\tData 0.002 (0.003)\n",
      "Train Epoch: 7\t[3200/5124 (62%)]\tLoss: 0.001268\tAccuracy: 100.000000\tTime 0.854 (0.853)\tData 0.002 (0.003)\n",
      "Train Epoch: 7\t[3840/5124 (74%)]\tLoss: 0.001549\tAccuracy: 100.000000\tTime 0.852 (0.853)\tData 0.002 (0.003)\n",
      "Train Epoch: 7\t[4480/5124 (86%)]\tLoss: 0.001733\tAccuracy: 100.000000\tTime 0.851 (0.853)\tData 0.002 (0.003)\n",
      "Train Epoch: 7\t[320/5124 (99%)]\tLoss: 0.032423\tAccuracy: 100.000000\tTime 0.062 (0.843)\tData 0.001 (0.003)\n",
      "\n",
      "Val set: Average loss: 0.482896, Accuracy: 98.805147 \n",
      "\n",
      "Train Epoch: 8\t[0/5124 (0%)]\tLoss: 0.001560\tAccuracy: 100.000000\tTime 0.853 (0.853)\tData 0.004 (0.004)\n",
      "Train Epoch: 8\t[640/5124 (12%)]\tLoss: 0.016044\tAccuracy: 98.437500\tTime 0.858 (0.855)\tData 0.002 (0.003)\n",
      "Train Epoch: 8\t[1280/5124 (25%)]\tLoss: 0.011241\tAccuracy: 96.875000\tTime 0.855 (0.855)\tData 0.003 (0.003)\n",
      "Train Epoch: 8\t[1920/5124 (37%)]\tLoss: 0.006818\tAccuracy: 96.875000\tTime 0.854 (0.855)\tData 0.003 (0.003)\n",
      "Train Epoch: 8\t[2560/5124 (49%)]\tLoss: 0.002683\tAccuracy: 100.000000\tTime 0.854 (0.855)\tData 0.002 (0.003)\n",
      "Train Epoch: 8\t[3200/5124 (62%)]\tLoss: 0.002909\tAccuracy: 100.000000\tTime 0.853 (0.855)\tData 0.003 (0.003)\n",
      "Train Epoch: 8\t[3840/5124 (74%)]\tLoss: 0.004612\tAccuracy: 98.437500\tTime 0.854 (0.855)\tData 0.002 (0.003)\n",
      "Train Epoch: 8\t[4480/5124 (86%)]\tLoss: 0.004560\tAccuracy: 98.437500\tTime 0.854 (0.855)\tData 0.003 (0.003)\n",
      "Train Epoch: 8\t[320/5124 (99%)]\tLoss: 0.002562\tAccuracy: 100.000000\tTime 0.062 (0.845)\tData 0.000 (0.003)\n",
      "\n",
      "Val set: Average loss: 0.375425, Accuracy: 98.437500 \n",
      "\n",
      "Train Epoch: 9\t[0/5124 (0%)]\tLoss: 0.001772\tAccuracy: 100.000000\tTime 0.854 (0.854)\tData 0.004 (0.004)\n",
      "Train Epoch: 9\t[640/5124 (12%)]\tLoss: 0.002049\tAccuracy: 100.000000\tTime 0.852 (0.853)\tData 0.002 (0.003)\n",
      "Train Epoch: 9\t[1280/5124 (25%)]\tLoss: 0.003389\tAccuracy: 98.437500\tTime 0.852 (0.852)\tData 0.002 (0.003)\n",
      "Train Epoch: 9\t[1920/5124 (37%)]\tLoss: 0.004318\tAccuracy: 100.000000\tTime 0.853 (0.852)\tData 0.002 (0.003)\n",
      "Train Epoch: 9\t[2560/5124 (49%)]\tLoss: 0.003181\tAccuracy: 100.000000\tTime 0.852 (0.852)\tData 0.002 (0.003)\n",
      "Train Epoch: 9\t[3200/5124 (62%)]\tLoss: 0.004234\tAccuracy: 100.000000\tTime 0.853 (0.852)\tData 0.002 (0.003)\n",
      "Train Epoch: 9\t[3840/5124 (74%)]\tLoss: 0.001470\tAccuracy: 100.000000\tTime 0.853 (0.852)\tData 0.002 (0.003)\n",
      "Train Epoch: 9\t[4480/5124 (86%)]\tLoss: 0.001448\tAccuracy: 100.000000\tTime 0.849 (0.852)\tData 0.002 (0.003)\n",
      "Train Epoch: 9\t[320/5124 (99%)]\tLoss: 0.047757\tAccuracy: 100.000000\tTime 0.062 (0.842)\tData 0.001 (0.003)\n",
      "\n",
      "Val set: Average loss: 0.366358, Accuracy: 98.713235 \n",
      "\n",
      "Train Epoch: 10\t[0/5124 (0%)]\tLoss: 0.001942\tAccuracy: 100.000000\tTime 0.851 (0.851)\tData 0.004 (0.004)\n",
      "Train Epoch: 10\t[640/5124 (12%)]\tLoss: 0.016801\tAccuracy: 95.312500\tTime 0.858 (0.856)\tData 0.003 (0.003)\n",
      "Train Epoch: 10\t[1280/5124 (25%)]\tLoss: 0.010126\tAccuracy: 100.000000\tTime 0.856 (0.856)\tData 0.002 (0.003)\n",
      "Train Epoch: 10\t[1920/5124 (37%)]\tLoss: 0.007535\tAccuracy: 98.437500\tTime 0.851 (0.855)\tData 0.002 (0.003)\n",
      "Train Epoch: 10\t[2560/5124 (49%)]\tLoss: 0.002834\tAccuracy: 100.000000\tTime 0.853 (0.855)\tData 0.002 (0.003)\n",
      "Train Epoch: 10\t[3200/5124 (62%)]\tLoss: 0.006555\tAccuracy: 100.000000\tTime 0.854 (0.855)\tData 0.002 (0.003)\n",
      "Train Epoch: 10\t[3840/5124 (74%)]\tLoss: 0.005089\tAccuracy: 100.000000\tTime 0.851 (0.855)\tData 0.002 (0.003)\n",
      "Train Epoch: 10\t[4480/5124 (86%)]\tLoss: 0.005388\tAccuracy: 100.000000\tTime 0.852 (0.854)\tData 0.002 (0.003)\n",
      "Train Epoch: 10\t[320/5124 (99%)]\tLoss: 0.007131\tAccuracy: 100.000000\tTime 0.062 (0.844)\tData 0.000 (0.003)\n",
      "\n",
      "Val set: Average loss: 0.302133, Accuracy: 98.897059 \n",
      "\n",
      "Train Epoch: 11\t[0/5124 (0%)]\tLoss: 0.002860\tAccuracy: 98.437500\tTime 0.854 (0.854)\tData 0.004 (0.004)\n",
      "Train Epoch: 11\t[640/5124 (12%)]\tLoss: 0.003840\tAccuracy: 98.437500\tTime 0.852 (0.855)\tData 0.002 (0.003)\n",
      "Train Epoch: 11\t[1280/5124 (25%)]\tLoss: 0.001305\tAccuracy: 100.000000\tTime 0.852 (0.853)\tData 0.002 (0.003)\n",
      "Train Epoch: 11\t[1920/5124 (37%)]\tLoss: 0.002718\tAccuracy: 100.000000\tTime 0.851 (0.853)\tData 0.002 (0.003)\n",
      "Train Epoch: 11\t[2560/5124 (49%)]\tLoss: 0.001345\tAccuracy: 100.000000\tTime 0.852 (0.853)\tData 0.002 (0.003)\n",
      "Train Epoch: 11\t[3200/5124 (62%)]\tLoss: 0.002333\tAccuracy: 100.000000\tTime 0.852 (0.853)\tData 0.002 (0.003)\n",
      "Train Epoch: 11\t[3840/5124 (74%)]\tLoss: 0.002092\tAccuracy: 100.000000\tTime 0.856 (0.853)\tData 0.002 (0.003)\n",
      "Train Epoch: 11\t[4480/5124 (86%)]\tLoss: 0.002806\tAccuracy: 100.000000\tTime 0.855 (0.853)\tData 0.002 (0.003)\n",
      "Train Epoch: 11\t[320/5124 (99%)]\tLoss: 0.003047\tAccuracy: 100.000000\tTime 0.062 (0.843)\tData 0.001 (0.003)\n",
      "\n",
      "Val set: Average loss: 0.254975, Accuracy: 98.897059 \n",
      "\n",
      "Train Epoch: 12\t[0/5124 (0%)]\tLoss: 0.002418\tAccuracy: 100.000000\tTime 0.854 (0.854)\tData 0.004 (0.004)\n",
      "Train Epoch: 12\t[640/5124 (12%)]\tLoss: 0.000772\tAccuracy: 100.000000\tTime 0.852 (0.853)\tData 0.002 (0.003)\n",
      "Train Epoch: 12\t[1280/5124 (25%)]\tLoss: 0.003306\tAccuracy: 100.000000\tTime 0.850 (0.852)\tData 0.002 (0.003)\n",
      "Train Epoch: 12\t[1920/5124 (37%)]\tLoss: 0.000683\tAccuracy: 100.000000\tTime 0.852 (0.852)\tData 0.002 (0.003)\n",
      "Train Epoch: 12\t[2560/5124 (49%)]\tLoss: 0.003246\tAccuracy: 98.437500\tTime 0.853 (0.852)\tData 0.003 (0.003)\n",
      "Train Epoch: 12\t[3200/5124 (62%)]\tLoss: 0.001599\tAccuracy: 100.000000\tTime 0.851 (0.852)\tData 0.002 (0.003)\n",
      "Train Epoch: 12\t[3840/5124 (74%)]\tLoss: 0.001083\tAccuracy: 100.000000\tTime 0.851 (0.852)\tData 0.002 (0.003)\n",
      "Train Epoch: 12\t[4480/5124 (86%)]\tLoss: 0.001717\tAccuracy: 100.000000\tTime 0.852 (0.852)\tData 0.002 (0.003)\n",
      "Train Epoch: 12\t[320/5124 (99%)]\tLoss: 0.012115\tAccuracy: 100.000000\tTime 0.062 (0.842)\tData 0.001 (0.003)\n",
      "\n",
      "Val set: Average loss: 0.253111, Accuracy: 99.632353 \n",
      "\n",
      "-------------------- HIGHEST ACCURACY ---------------------------\n",
      "Train Epoch: 13\t[0/5124 (0%)]\tLoss: 0.000795\tAccuracy: 100.000000\tTime 0.853 (0.853)\tData 0.003 (0.003)\n",
      "Train Epoch: 13\t[640/5124 (12%)]\tLoss: 0.002264\tAccuracy: 100.000000\tTime 0.851 (0.853)\tData 0.002 (0.003)\n",
      "Train Epoch: 13\t[1280/5124 (25%)]\tLoss: 0.001535\tAccuracy: 100.000000\tTime 0.851 (0.852)\tData 0.002 (0.003)\n",
      "Train Epoch: 13\t[1920/5124 (37%)]\tLoss: 0.002397\tAccuracy: 98.437500\tTime 0.854 (0.853)\tData 0.002 (0.003)\n",
      "Train Epoch: 13\t[2560/5124 (49%)]\tLoss: 0.002726\tAccuracy: 100.000000\tTime 0.854 (0.853)\tData 0.002 (0.003)\n",
      "Train Epoch: 13\t[3200/5124 (62%)]\tLoss: 0.001057\tAccuracy: 100.000000\tTime 0.852 (0.853)\tData 0.002 (0.003)\n",
      "Train Epoch: 13\t[3840/5124 (74%)]\tLoss: 0.000700\tAccuracy: 100.000000\tTime 0.851 (0.853)\tData 0.002 (0.003)\n",
      "Train Epoch: 13\t[4480/5124 (86%)]\tLoss: 0.001059\tAccuracy: 100.000000\tTime 0.850 (0.852)\tData 0.002 (0.003)\n",
      "Train Epoch: 13\t[320/5124 (99%)]\tLoss: 0.001797\tAccuracy: 100.000000\tTime 0.063 (0.843)\tData 0.001 (0.003)\n",
      "\n",
      "Val set: Average loss: 0.217870, Accuracy: 99.264706 \n",
      "\n",
      "Train Epoch: 14\t[0/5124 (0%)]\tLoss: 0.000424\tAccuracy: 100.000000\tTime 0.853 (0.853)\tData 0.003 (0.003)\n",
      "Train Epoch: 14\t[640/5124 (12%)]\tLoss: 0.001085\tAccuracy: 100.000000\tTime 0.854 (0.853)\tData 0.002 (0.003)\n",
      "Train Epoch: 14\t[1280/5124 (25%)]\tLoss: 0.000944\tAccuracy: 100.000000\tTime 0.854 (0.853)\tData 0.002 (0.003)\n",
      "Train Epoch: 14\t[1920/5124 (37%)]\tLoss: 0.000433\tAccuracy: 100.000000\tTime 0.852 (0.853)\tData 0.002 (0.003)\n",
      "Train Epoch: 14\t[2560/5124 (49%)]\tLoss: 0.001631\tAccuracy: 100.000000\tTime 0.851 (0.852)\tData 0.003 (0.003)\n",
      "Train Epoch: 14\t[3200/5124 (62%)]\tLoss: 0.000336\tAccuracy: 100.000000\tTime 0.852 (0.852)\tData 0.002 (0.003)\n",
      "Train Epoch: 14\t[3840/5124 (74%)]\tLoss: 0.001080\tAccuracy: 100.000000\tTime 0.852 (0.852)\tData 0.002 (0.003)\n",
      "Train Epoch: 14\t[4480/5124 (86%)]\tLoss: 0.001520\tAccuracy: 100.000000\tTime 0.853 (0.852)\tData 0.002 (0.003)\n",
      "Train Epoch: 14\t[320/5124 (99%)]\tLoss: 0.000243\tAccuracy: 100.000000\tTime 0.062 (0.842)\tData 0.001 (0.003)\n",
      "\n",
      "Val set: Average loss: 0.213761, Accuracy: 99.356618 \n",
      "\n",
      "Train Epoch: 15\t[0/5124 (0%)]\tLoss: 0.000215\tAccuracy: 100.000000\tTime 0.855 (0.855)\tData 0.004 (0.004)\n",
      "Train Epoch: 15\t[640/5124 (12%)]\tLoss: 0.000675\tAccuracy: 100.000000\tTime 0.853 (0.853)\tData 0.002 (0.003)\n",
      "Train Epoch: 15\t[1280/5124 (25%)]\tLoss: 0.000384\tAccuracy: 100.000000\tTime 0.851 (0.853)\tData 0.002 (0.003)\n",
      "Train Epoch: 15\t[1920/5124 (37%)]\tLoss: 0.000605\tAccuracy: 100.000000\tTime 0.852 (0.853)\tData 0.003 (0.003)\n",
      "Train Epoch: 15\t[2560/5124 (49%)]\tLoss: 0.000441\tAccuracy: 100.000000\tTime 0.850 (0.852)\tData 0.003 (0.003)\n",
      "Train Epoch: 15\t[3200/5124 (62%)]\tLoss: 0.001374\tAccuracy: 100.000000\tTime 0.852 (0.852)\tData 0.002 (0.003)\n",
      "Train Epoch: 15\t[3840/5124 (74%)]\tLoss: 0.000151\tAccuracy: 100.000000\tTime 0.851 (0.852)\tData 0.002 (0.003)\n",
      "Train Epoch: 15\t[4480/5124 (86%)]\tLoss: 0.000779\tAccuracy: 100.000000\tTime 0.850 (0.852)\tData 0.002 (0.003)\n",
      "Train Epoch: 15\t[320/5124 (99%)]\tLoss: 0.000000\tAccuracy: 100.000000\tTime 0.062 (0.842)\tData 0.000 (0.003)\n",
      "\n",
      "Val set: Average loss: 0.209760, Accuracy: 99.356618 \n",
      "\n",
      "Train Epoch: 16\t[0/5124 (0%)]\tLoss: 0.000690\tAccuracy: 100.000000\tTime 0.852 (0.852)\tData 0.003 (0.003)\n",
      "Train Epoch: 16\t[640/5124 (12%)]\tLoss: 0.000189\tAccuracy: 100.000000\tTime 0.848 (0.852)\tData 0.002 (0.003)\n",
      "Train Epoch: 16\t[1280/5124 (25%)]\tLoss: 0.000915\tAccuracy: 100.000000\tTime 0.852 (0.851)\tData 0.002 (0.003)\n",
      "Train Epoch: 16\t[1920/5124 (37%)]\tLoss: 0.000188\tAccuracy: 100.000000\tTime 0.852 (0.851)\tData 0.002 (0.003)\n",
      "Train Epoch: 16\t[2560/5124 (49%)]\tLoss: 0.000233\tAccuracy: 100.000000\tTime 0.854 (0.851)\tData 0.002 (0.003)\n",
      "Train Epoch: 16\t[3200/5124 (62%)]\tLoss: 0.000295\tAccuracy: 100.000000\tTime 0.851 (0.851)\tData 0.003 (0.003)\n",
      "Train Epoch: 16\t[3840/5124 (74%)]\tLoss: 0.000304\tAccuracy: 100.000000\tTime 0.851 (0.851)\tData 0.002 (0.003)\n",
      "Train Epoch: 16\t[4480/5124 (86%)]\tLoss: 0.000814\tAccuracy: 100.000000\tTime 0.852 (0.851)\tData 0.002 (0.003)\n",
      "Train Epoch: 16\t[320/5124 (99%)]\tLoss: 0.003373\tAccuracy: 100.000000\tTime 0.062 (0.842)\tData 0.000 (0.003)\n",
      "\n",
      "Val set: Average loss: 0.197790, Accuracy: 99.632353 \n",
      "\n",
      "Train Epoch: 17\t[0/5124 (0%)]\tLoss: 0.000380\tAccuracy: 100.000000\tTime 0.850 (0.850)\tData 0.004 (0.004)\n",
      "Train Epoch: 17\t[640/5124 (12%)]\tLoss: 0.000502\tAccuracy: 100.000000\tTime 0.851 (0.852)\tData 0.003 (0.003)\n",
      "Train Epoch: 17\t[1280/5124 (25%)]\tLoss: 0.000704\tAccuracy: 100.000000\tTime 0.852 (0.852)\tData 0.002 (0.003)\n",
      "Train Epoch: 17\t[1920/5124 (37%)]\tLoss: 0.000570\tAccuracy: 100.000000\tTime 0.852 (0.852)\tData 0.003 (0.003)\n",
      "Train Epoch: 17\t[2560/5124 (49%)]\tLoss: 0.000229\tAccuracy: 100.000000\tTime 0.852 (0.852)\tData 0.002 (0.003)\n",
      "Train Epoch: 17\t[3200/5124 (62%)]\tLoss: 0.000920\tAccuracy: 100.000000\tTime 0.852 (0.852)\tData 0.002 (0.003)\n",
      "Train Epoch: 17\t[3840/5124 (74%)]\tLoss: 0.000128\tAccuracy: 100.000000\tTime 0.849 (0.852)\tData 0.002 (0.003)\n",
      "Train Epoch: 17\t[4480/5124 (86%)]\tLoss: 0.000337\tAccuracy: 100.000000\tTime 0.852 (0.852)\tData 0.002 (0.003)\n",
      "Train Epoch: 17\t[320/5124 (99%)]\tLoss: 0.000028\tAccuracy: 100.000000\tTime 0.062 (0.842)\tData 0.001 (0.003)\n",
      "\n",
      "Val set: Average loss: 0.178849, Accuracy: 99.448529 \n",
      "\n",
      "Train Epoch: 18\t[0/5124 (0%)]\tLoss: 0.001086\tAccuracy: 100.000000\tTime 0.853 (0.853)\tData 0.004 (0.004)\n",
      "Train Epoch: 18\t[640/5124 (12%)]\tLoss: 0.000117\tAccuracy: 100.000000\tTime 0.850 (0.852)\tData 0.002 (0.003)\n",
      "Train Epoch: 18\t[1280/5124 (25%)]\tLoss: 0.000651\tAccuracy: 100.000000\tTime 0.852 (0.852)\tData 0.002 (0.003)\n",
      "Train Epoch: 18\t[1920/5124 (37%)]\tLoss: 0.000117\tAccuracy: 100.000000\tTime 0.849 (0.852)\tData 0.002 (0.003)\n",
      "Train Epoch: 18\t[2560/5124 (49%)]\tLoss: 0.000591\tAccuracy: 100.000000\tTime 0.853 (0.852)\tData 0.002 (0.003)\n",
      "Train Epoch: 18\t[3200/5124 (62%)]\tLoss: 0.000125\tAccuracy: 100.000000\tTime 0.851 (0.852)\tData 0.003 (0.003)\n",
      "Train Epoch: 18\t[3840/5124 (74%)]\tLoss: 0.000635\tAccuracy: 100.000000\tTime 0.854 (0.852)\tData 0.003 (0.003)\n",
      "Train Epoch: 18\t[4480/5124 (86%)]\tLoss: 0.001045\tAccuracy: 100.000000\tTime 0.853 (0.852)\tData 0.003 (0.003)\n",
      "Train Epoch: 18\t[320/5124 (99%)]\tLoss: 0.017613\tAccuracy: 100.000000\tTime 0.062 (0.842)\tData 0.001 (0.003)\n",
      "\n",
      "Val set: Average loss: 0.174618, Accuracy: 99.356618 \n",
      "\n",
      "Train Epoch: 19\t[0/5124 (0%)]\tLoss: 0.000259\tAccuracy: 100.000000\tTime 0.851 (0.851)\tData 0.004 (0.004)\n",
      "Train Epoch: 19\t[640/5124 (12%)]\tLoss: 0.003450\tAccuracy: 100.000000\tTime 0.853 (0.854)\tData 0.002 (0.003)\n",
      "Train Epoch: 19\t[1280/5124 (25%)]\tLoss: 0.012203\tAccuracy: 98.437500\tTime 0.854 (0.854)\tData 0.002 (0.003)\n",
      "Train Epoch: 19\t[1920/5124 (37%)]\tLoss: 0.010176\tAccuracy: 100.000000\tTime 0.855 (0.854)\tData 0.002 (0.003)\n",
      "Train Epoch: 19\t[2560/5124 (49%)]\tLoss: 0.005917\tAccuracy: 100.000000\tTime 0.854 (0.854)\tData 0.002 (0.003)\n",
      "Train Epoch: 19\t[3200/5124 (62%)]\tLoss: 0.009557\tAccuracy: 100.000000\tTime 0.855 (0.854)\tData 0.002 (0.003)\n",
      "Train Epoch: 19\t[3840/5124 (74%)]\tLoss: 0.004008\tAccuracy: 98.437500\tTime 0.852 (0.854)\tData 0.002 (0.003)\n",
      "Train Epoch: 19\t[4480/5124 (86%)]\tLoss: 0.013645\tAccuracy: 98.437500\tTime 0.855 (0.854)\tData 0.002 (0.003)\n",
      "Train Epoch: 19\t[320/5124 (99%)]\tLoss: 0.051987\tAccuracy: 100.000000\tTime 0.064 (0.845)\tData 0.001 (0.003)\n",
      "\n",
      "Val set: Average loss: 0.190373, Accuracy: 98.161765 \n",
      "\n",
      "Train Epoch: 20\t[0/5124 (0%)]\tLoss: 0.003517\tAccuracy: 100.000000\tTime 0.855 (0.855)\tData 0.004 (0.004)\n",
      "Train Epoch: 20\t[640/5124 (12%)]\tLoss: 0.016509\tAccuracy: 100.000000\tTime 0.856 (0.856)\tData 0.002 (0.003)\n",
      "Train Epoch: 20\t[1280/5124 (25%)]\tLoss: 0.007901\tAccuracy: 100.000000\tTime 0.855 (0.856)\tData 0.002 (0.003)\n",
      "Train Epoch: 20\t[1920/5124 (37%)]\tLoss: 0.018084\tAccuracy: 96.875000\tTime 0.853 (0.855)\tData 0.002 (0.003)\n",
      "Train Epoch: 20\t[2560/5124 (49%)]\tLoss: 0.016328\tAccuracy: 96.875000\tTime 0.855 (0.855)\tData 0.002 (0.003)\n",
      "Train Epoch: 20\t[3200/5124 (62%)]\tLoss: 0.012341\tAccuracy: 98.437500\tTime 0.854 (0.855)\tData 0.003 (0.003)\n",
      "Train Epoch: 20\t[3840/5124 (74%)]\tLoss: 0.002642\tAccuracy: 100.000000\tTime 0.855 (0.855)\tData 0.002 (0.003)\n",
      "Train Epoch: 20\t[4480/5124 (86%)]\tLoss: 0.011743\tAccuracy: 96.875000\tTime 0.856 (0.855)\tData 0.002 (0.003)\n",
      "Train Epoch: 20\t[320/5124 (99%)]\tLoss: 0.000001\tAccuracy: 100.000000\tTime 0.062 (0.845)\tData 0.001 (0.003)\n",
      "\n",
      "Val set: Average loss: 0.105683, Accuracy: 99.448529 \n",
      "\n",
      "Train Epoch: 21\t[0/5124 (0%)]\tLoss: 0.005422\tAccuracy: 100.000000\tTime 0.854 (0.854)\tData 0.004 (0.004)\n",
      "Train Epoch: 21\t[640/5124 (12%)]\tLoss: 0.005807\tAccuracy: 100.000000\tTime 0.850 (0.853)\tData 0.002 (0.003)\n",
      "Train Epoch: 21\t[1280/5124 (25%)]\tLoss: 0.004895\tAccuracy: 98.437500\tTime 0.851 (0.852)\tData 0.002 (0.003)\n",
      "Train Epoch: 21\t[1920/5124 (37%)]\tLoss: 0.005555\tAccuracy: 98.437500\tTime 0.853 (0.853)\tData 0.002 (0.003)\n",
      "Train Epoch: 21\t[2560/5124 (49%)]\tLoss: 0.006031\tAccuracy: 98.437500\tTime 0.851 (0.852)\tData 0.002 (0.003)\n",
      "Train Epoch: 21\t[3200/5124 (62%)]\tLoss: 0.001439\tAccuracy: 100.000000\tTime 0.852 (0.852)\tData 0.002 (0.003)\n",
      "Train Epoch: 21\t[3840/5124 (74%)]\tLoss: 0.007714\tAccuracy: 98.437500\tTime 0.853 (0.852)\tData 0.002 (0.003)\n",
      "Train Epoch: 21\t[4480/5124 (86%)]\tLoss: 0.003476\tAccuracy: 98.437500\tTime 0.852 (0.852)\tData 0.002 (0.003)\n",
      "Train Epoch: 21\t[320/5124 (99%)]\tLoss: 0.006473\tAccuracy: 100.000000\tTime 0.062 (0.843)\tData 0.001 (0.003)\n",
      "\n",
      "Val set: Average loss: 0.083839, Accuracy: 99.632353 \n",
      "\n",
      "Train Epoch: 22\t[0/5124 (0%)]\tLoss: 0.000736\tAccuracy: 100.000000\tTime 0.856 (0.856)\tData 0.007 (0.007)\n",
      "Train Epoch: 22\t[640/5124 (12%)]\tLoss: 0.001027\tAccuracy: 100.000000\tTime 0.850 (0.852)\tData 0.003 (0.003)\n",
      "Train Epoch: 22\t[1280/5124 (25%)]\tLoss: 0.001945\tAccuracy: 100.000000\tTime 0.851 (0.852)\tData 0.002 (0.003)\n",
      "Train Epoch: 22\t[1920/5124 (37%)]\tLoss: 0.000045\tAccuracy: 100.000000\tTime 0.850 (0.852)\tData 0.002 (0.003)\n",
      "Train Epoch: 22\t[2560/5124 (49%)]\tLoss: 0.000694\tAccuracy: 100.000000\tTime 0.851 (0.852)\tData 0.002 (0.003)\n",
      "Train Epoch: 22\t[3200/5124 (62%)]\tLoss: 0.001969\tAccuracy: 100.000000\tTime 0.852 (0.852)\tData 0.002 (0.003)\n",
      "Train Epoch: 22\t[3840/5124 (74%)]\tLoss: 0.000271\tAccuracy: 100.000000\tTime 0.852 (0.852)\tData 0.002 (0.003)\n",
      "Train Epoch: 22\t[4480/5124 (86%)]\tLoss: 0.000563\tAccuracy: 100.000000\tTime 0.851 (0.852)\tData 0.002 (0.003)\n",
      "Train Epoch: 22\t[320/5124 (99%)]\tLoss: 0.000108\tAccuracy: 100.000000\tTime 0.062 (0.842)\tData 0.001 (0.003)\n",
      "\n",
      "Val set: Average loss: 0.082812, Accuracy: 99.540441 \n",
      "\n",
      "Train Epoch: 23\t[0/5124 (0%)]\tLoss: 0.000774\tAccuracy: 100.000000\tTime 0.852 (0.852)\tData 0.004 (0.004)\n",
      "Train Epoch: 23\t[640/5124 (12%)]\tLoss: 0.000097\tAccuracy: 100.000000\tTime 0.851 (0.851)\tData 0.003 (0.003)\n",
      "Train Epoch: 23\t[1280/5124 (25%)]\tLoss: 0.000277\tAccuracy: 100.000000\tTime 0.851 (0.851)\tData 0.002 (0.003)\n",
      "Train Epoch: 23\t[1920/5124 (37%)]\tLoss: 0.000037\tAccuracy: 100.000000\tTime 0.851 (0.851)\tData 0.003 (0.003)\n",
      "Train Epoch: 23\t[2560/5124 (49%)]\tLoss: 0.004930\tAccuracy: 98.437500\tTime 0.852 (0.851)\tData 0.002 (0.003)\n",
      "Train Epoch: 23\t[3200/5124 (62%)]\tLoss: 0.000286\tAccuracy: 100.000000\tTime 0.850 (0.851)\tData 0.002 (0.003)\n",
      "Train Epoch: 23\t[3840/5124 (74%)]\tLoss: 0.000656\tAccuracy: 100.000000\tTime 0.851 (0.851)\tData 0.003 (0.003)\n",
      "Train Epoch: 23\t[4480/5124 (86%)]\tLoss: 0.002094\tAccuracy: 100.000000\tTime 0.852 (0.851)\tData 0.002 (0.003)\n",
      "Train Epoch: 23\t[320/5124 (99%)]\tLoss: 0.006622\tAccuracy: 100.000000\tTime 0.063 (0.842)\tData 0.001 (0.003)\n",
      "\n",
      "Val set: Average loss: 0.064052, Accuracy: 99.724265 \n",
      "\n",
      "-------------------- HIGHEST ACCURACY ---------------------------\n",
      "Train Epoch: 24\t[0/5124 (0%)]\tLoss: 0.000214\tAccuracy: 100.000000\tTime 0.851 (0.851)\tData 0.003 (0.003)\n",
      "Train Epoch: 24\t[640/5124 (12%)]\tLoss: 0.000341\tAccuracy: 100.000000\tTime 0.852 (0.852)\tData 0.002 (0.003)\n",
      "Train Epoch: 24\t[1280/5124 (25%)]\tLoss: 0.001408\tAccuracy: 100.000000\tTime 0.852 (0.852)\tData 0.002 (0.003)\n",
      "Train Epoch: 24\t[1920/5124 (37%)]\tLoss: 0.001049\tAccuracy: 100.000000\tTime 0.852 (0.852)\tData 0.002 (0.003)\n",
      "Train Epoch: 24\t[2560/5124 (49%)]\tLoss: 0.000605\tAccuracy: 100.000000\tTime 0.854 (0.852)\tData 0.002 (0.003)\n",
      "Train Epoch: 24\t[3200/5124 (62%)]\tLoss: 0.000235\tAccuracy: 100.000000\tTime 0.852 (0.852)\tData 0.002 (0.003)\n",
      "Train Epoch: 24\t[3840/5124 (74%)]\tLoss: 0.000678\tAccuracy: 100.000000\tTime 0.851 (0.852)\tData 0.002 (0.003)\n",
      "Train Epoch: 24\t[4480/5124 (86%)]\tLoss: 0.004274\tAccuracy: 100.000000\tTime 0.852 (0.852)\tData 0.003 (0.003)\n",
      "Train Epoch: 24\t[320/5124 (99%)]\tLoss: 0.000006\tAccuracy: 100.000000\tTime 0.063 (0.842)\tData 0.001 (0.003)\n",
      "\n",
      "Val set: Average loss: 0.065371, Accuracy: 99.540441 \n",
      "\n",
      "Train Epoch: 25\t[0/5124 (0%)]\tLoss: 0.001217\tAccuracy: 100.000000\tTime 0.852 (0.852)\tData 0.004 (0.004)\n",
      "Train Epoch: 25\t[640/5124 (12%)]\tLoss: 0.002634\tAccuracy: 98.437500\tTime 0.852 (0.852)\tData 0.003 (0.003)\n",
      "Train Epoch: 25\t[1280/5124 (25%)]\tLoss: 0.000184\tAccuracy: 100.000000\tTime 0.851 (0.852)\tData 0.002 (0.003)\n",
      "Train Epoch: 25\t[1920/5124 (37%)]\tLoss: 0.000823\tAccuracy: 100.000000\tTime 0.852 (0.852)\tData 0.002 (0.003)\n",
      "Train Epoch: 25\t[2560/5124 (49%)]\tLoss: 0.000035\tAccuracy: 100.000000\tTime 0.851 (0.852)\tData 0.002 (0.003)\n",
      "Train Epoch: 25\t[3200/5124 (62%)]\tLoss: 0.000663\tAccuracy: 100.000000\tTime 0.851 (0.852)\tData 0.002 (0.003)\n",
      "Train Epoch: 25\t[3840/5124 (74%)]\tLoss: 0.000022\tAccuracy: 100.000000\tTime 0.850 (0.852)\tData 0.002 (0.003)\n",
      "Train Epoch: 25\t[4480/5124 (86%)]\tLoss: 0.000880\tAccuracy: 100.000000\tTime 0.852 (0.852)\tData 0.002 (0.003)\n",
      "Train Epoch: 25\t[320/5124 (99%)]\tLoss: 0.000031\tAccuracy: 100.000000\tTime 0.062 (0.842)\tData 0.001 (0.003)\n",
      "\n",
      "Val set: Average loss: 0.054485, Accuracy: 99.816176 \n",
      "\n",
      "-------------------- HIGHEST ACCURACY ---------------------------\n",
      "Train Epoch: 26\t[0/5124 (0%)]\tLoss: 0.000458\tAccuracy: 100.000000\tTime 0.851 (0.851)\tData 0.004 (0.004)\n",
      "Train Epoch: 26\t[640/5124 (12%)]\tLoss: 0.000199\tAccuracy: 100.000000\tTime 0.851 (0.852)\tData 0.003 (0.003)\n",
      "Train Epoch: 26\t[1280/5124 (25%)]\tLoss: 0.000130\tAccuracy: 100.000000\tTime 0.851 (0.852)\tData 0.002 (0.003)\n",
      "Train Epoch: 26\t[1920/5124 (37%)]\tLoss: 0.000515\tAccuracy: 100.000000\tTime 0.849 (0.852)\tData 0.003 (0.003)\n",
      "Train Epoch: 26\t[2560/5124 (49%)]\tLoss: 0.000283\tAccuracy: 100.000000\tTime 0.852 (0.852)\tData 0.003 (0.003)\n",
      "Train Epoch: 26\t[3200/5124 (62%)]\tLoss: 0.000096\tAccuracy: 100.000000\tTime 0.851 (0.852)\tData 0.003 (0.003)\n",
      "Train Epoch: 26\t[3840/5124 (74%)]\tLoss: 0.000199\tAccuracy: 100.000000\tTime 0.853 (0.852)\tData 0.002 (0.003)\n",
      "Train Epoch: 26\t[4480/5124 (86%)]\tLoss: 0.000258\tAccuracy: 100.000000\tTime 0.850 (0.852)\tData 0.003 (0.003)\n",
      "Train Epoch: 26\t[320/5124 (99%)]\tLoss: 0.000000\tAccuracy: 100.000000\tTime 0.062 (0.842)\tData 0.001 (0.003)\n",
      "\n",
      "Val set: Average loss: 0.051541, Accuracy: 99.908088 \n",
      "\n",
      "-------------------- HIGHEST ACCURACY ---------------------------\n",
      "Train Epoch: 27\t[0/5124 (0%)]\tLoss: 0.000069\tAccuracy: 100.000000\tTime 0.851 (0.851)\tData 0.003 (0.003)\n",
      "Train Epoch: 27\t[640/5124 (12%)]\tLoss: 0.000298\tAccuracy: 100.000000\tTime 0.851 (0.851)\tData 0.002 (0.003)\n",
      "Train Epoch: 27\t[1280/5124 (25%)]\tLoss: 0.000190\tAccuracy: 100.000000\tTime 0.850 (0.851)\tData 0.002 (0.003)\n",
      "Train Epoch: 27\t[1920/5124 (37%)]\tLoss: 0.000380\tAccuracy: 100.000000\tTime 0.850 (0.851)\tData 0.002 (0.003)\n",
      "Train Epoch: 27\t[2560/5124 (49%)]\tLoss: 0.000102\tAccuracy: 100.000000\tTime 0.850 (0.851)\tData 0.002 (0.003)\n",
      "Train Epoch: 27\t[3200/5124 (62%)]\tLoss: 0.000090\tAccuracy: 100.000000\tTime 0.851 (0.851)\tData 0.002 (0.003)\n",
      "Train Epoch: 27\t[3840/5124 (74%)]\tLoss: 0.000245\tAccuracy: 100.000000\tTime 0.851 (0.851)\tData 0.003 (0.003)\n",
      "Train Epoch: 27\t[4480/5124 (86%)]\tLoss: 0.000116\tAccuracy: 100.000000\tTime 0.851 (0.851)\tData 0.002 (0.003)\n",
      "Train Epoch: 27\t[320/5124 (99%)]\tLoss: 0.000000\tAccuracy: 100.000000\tTime 0.066 (0.842)\tData 0.001 (0.003)\n",
      "\n",
      "Val set: Average loss: 0.050165, Accuracy: 99.724265 \n",
      "\n",
      "Train Epoch: 28\t[0/5124 (0%)]\tLoss: 0.000009\tAccuracy: 100.000000\tTime 0.852 (0.852)\tData 0.004 (0.004)\n",
      "Train Epoch: 28\t[640/5124 (12%)]\tLoss: 0.000060\tAccuracy: 100.000000\tTime 0.851 (0.851)\tData 0.002 (0.003)\n",
      "Train Epoch: 28\t[1280/5124 (25%)]\tLoss: 0.000248\tAccuracy: 100.000000\tTime 0.849 (0.851)\tData 0.002 (0.003)\n",
      "Train Epoch: 28\t[1920/5124 (37%)]\tLoss: 0.000078\tAccuracy: 100.000000\tTime 0.852 (0.851)\tData 0.002 (0.003)\n",
      "Train Epoch: 28\t[2560/5124 (49%)]\tLoss: 0.000032\tAccuracy: 100.000000\tTime 0.851 (0.852)\tData 0.002 (0.003)\n",
      "Train Epoch: 28\t[3200/5124 (62%)]\tLoss: 0.000110\tAccuracy: 100.000000\tTime 0.852 (0.852)\tData 0.002 (0.003)\n",
      "Train Epoch: 28\t[3840/5124 (74%)]\tLoss: 0.000175\tAccuracy: 100.000000\tTime 0.853 (0.852)\tData 0.003 (0.003)\n",
      "Train Epoch: 28\t[4480/5124 (86%)]\tLoss: 0.000447\tAccuracy: 100.000000\tTime 0.852 (0.852)\tData 0.002 (0.003)\n",
      "Train Epoch: 28\t[320/5124 (99%)]\tLoss: 0.000001\tAccuracy: 100.000000\tTime 0.061 (0.842)\tData 0.001 (0.003)\n",
      "\n",
      "Val set: Average loss: 0.046955, Accuracy: 99.724265 \n",
      "\n",
      "Train Epoch: 29\t[0/5124 (0%)]\tLoss: 0.000566\tAccuracy: 100.000000\tTime 0.853 (0.853)\tData 0.004 (0.004)\n",
      "Train Epoch: 29\t[640/5124 (12%)]\tLoss: 0.000017\tAccuracy: 100.000000\tTime 0.852 (0.853)\tData 0.002 (0.003)\n",
      "Train Epoch: 29\t[1280/5124 (25%)]\tLoss: 0.000307\tAccuracy: 100.000000\tTime 0.853 (0.853)\tData 0.002 (0.003)\n",
      "Train Epoch: 29\t[1920/5124 (37%)]\tLoss: 0.000059\tAccuracy: 100.000000\tTime 0.851 (0.852)\tData 0.002 (0.003)\n",
      "Train Epoch: 29\t[2560/5124 (49%)]\tLoss: 0.000037\tAccuracy: 100.000000\tTime 0.853 (0.852)\tData 0.003 (0.003)\n",
      "Train Epoch: 29\t[3200/5124 (62%)]\tLoss: 0.000031\tAccuracy: 100.000000\tTime 0.850 (0.852)\tData 0.002 (0.003)\n",
      "Train Epoch: 29\t[3840/5124 (74%)]\tLoss: 0.000012\tAccuracy: 100.000000\tTime 0.851 (0.852)\tData 0.002 (0.003)\n",
      "Train Epoch: 29\t[4480/5124 (86%)]\tLoss: 0.000027\tAccuracy: 100.000000\tTime 0.851 (0.852)\tData 0.002 (0.003)\n",
      "Train Epoch: 29\t[320/5124 (99%)]\tLoss: -0.000000\tAccuracy: 100.000000\tTime 0.062 (0.842)\tData 0.001 (0.003)\n",
      "\n",
      "Val set: Average loss: 0.045591, Accuracy: 99.816176 \n",
      "\n",
      "Train Epoch: 30\t[0/5124 (0%)]\tLoss: 0.000539\tAccuracy: 100.000000\tTime 0.852 (0.852)\tData 0.004 (0.004)\n",
      "Train Epoch: 30\t[640/5124 (12%)]\tLoss: 0.000053\tAccuracy: 100.000000\tTime 0.848 (0.850)\tData 0.002 (0.003)\n",
      "Train Epoch: 30\t[1280/5124 (25%)]\tLoss: 0.000166\tAccuracy: 100.000000\tTime 0.851 (0.851)\tData 0.002 (0.003)\n",
      "Train Epoch: 30\t[1920/5124 (37%)]\tLoss: 0.000043\tAccuracy: 100.000000\tTime 0.851 (0.851)\tData 0.002 (0.003)\n",
      "Train Epoch: 30\t[2560/5124 (49%)]\tLoss: 0.000024\tAccuracy: 100.000000\tTime 0.851 (0.851)\tData 0.002 (0.003)\n",
      "Train Epoch: 30\t[3200/5124 (62%)]\tLoss: 0.000071\tAccuracy: 100.000000\tTime 0.852 (0.851)\tData 0.002 (0.003)\n",
      "Train Epoch: 30\t[3840/5124 (74%)]\tLoss: 0.000054\tAccuracy: 100.000000\tTime 0.851 (0.851)\tData 0.003 (0.003)\n",
      "Train Epoch: 30\t[4480/5124 (86%)]\tLoss: 0.000120\tAccuracy: 100.000000\tTime 0.851 (0.851)\tData 0.002 (0.003)\n",
      "Train Epoch: 30\t[320/5124 (99%)]\tLoss: 0.002507\tAccuracy: 100.000000\tTime 0.062 (0.842)\tData 0.001 (0.003)\n",
      "\n",
      "Val set: Average loss: 0.042707, Accuracy: 99.724265 \n",
      "\n",
      "Train Epoch: 31\t[0/5124 (0%)]\tLoss: 0.000057\tAccuracy: 100.000000\tTime 0.851 (0.851)\tData 0.004 (0.004)\n",
      "Train Epoch: 31\t[640/5124 (12%)]\tLoss: 0.000462\tAccuracy: 100.000000\tTime 0.851 (0.853)\tData 0.002 (0.003)\n",
      "Train Epoch: 31\t[1280/5124 (25%)]\tLoss: 0.000295\tAccuracy: 100.000000\tTime 0.852 (0.853)\tData 0.003 (0.003)\n",
      "Train Epoch: 31\t[1920/5124 (37%)]\tLoss: 0.000130\tAccuracy: 100.000000\tTime 0.851 (0.852)\tData 0.002 (0.003)\n",
      "Train Epoch: 31\t[2560/5124 (49%)]\tLoss: 0.000302\tAccuracy: 100.000000\tTime 0.851 (0.852)\tData 0.002 (0.003)\n",
      "Train Epoch: 31\t[3200/5124 (62%)]\tLoss: 0.000319\tAccuracy: 100.000000\tTime 0.853 (0.852)\tData 0.002 (0.003)\n",
      "Train Epoch: 31\t[3840/5124 (74%)]\tLoss: 0.000252\tAccuracy: 100.000000\tTime 0.852 (0.852)\tData 0.002 (0.003)\n",
      "Train Epoch: 31\t[4480/5124 (86%)]\tLoss: 0.000076\tAccuracy: 100.000000\tTime 0.851 (0.852)\tData 0.002 (0.003)\n",
      "Train Epoch: 31\t[320/5124 (99%)]\tLoss: 0.004529\tAccuracy: 100.000000\tTime 0.063 (0.842)\tData 0.001 (0.003)\n",
      "\n",
      "Val set: Average loss: 0.045706, Accuracy: 99.724265 \n",
      "\n",
      "Train Epoch: 32\t[0/5124 (0%)]\tLoss: 0.002306\tAccuracy: 100.000000\tTime 0.853 (0.853)\tData 0.004 (0.004)\n",
      "Train Epoch: 32\t[640/5124 (12%)]\tLoss: 0.003648\tAccuracy: 100.000000\tTime 0.856 (0.853)\tData 0.002 (0.003)\n",
      "Train Epoch: 32\t[1280/5124 (25%)]\tLoss: 0.001808\tAccuracy: 100.000000\tTime 0.851 (0.854)\tData 0.002 (0.003)\n",
      "Train Epoch: 32\t[1920/5124 (37%)]\tLoss: 0.005901\tAccuracy: 100.000000\tTime 0.851 (0.854)\tData 0.002 (0.003)\n",
      "Train Epoch: 32\t[2560/5124 (49%)]\tLoss: 0.032276\tAccuracy: 98.437500\tTime 0.858 (0.854)\tData 0.002 (0.003)\n",
      "Train Epoch: 32\t[3200/5124 (62%)]\tLoss: 0.064258\tAccuracy: 96.875000\tTime 0.858 (0.855)\tData 0.002 (0.003)\n",
      "Train Epoch: 32\t[3840/5124 (74%)]\tLoss: 0.055515\tAccuracy: 93.750000\tTime 0.859 (0.855)\tData 0.002 (0.003)\n",
      "Train Epoch: 32\t[4480/5124 (86%)]\tLoss: 0.039506\tAccuracy: 96.875000\tTime 0.858 (0.856)\tData 0.002 (0.003)\n",
      "Train Epoch: 32\t[320/5124 (99%)]\tLoss: 0.006643\tAccuracy: 100.000000\tTime 0.062 (0.846)\tData 0.001 (0.003)\n",
      "\n",
      "Val set: Average loss: 0.149047, Accuracy: 96.047794 \n",
      "\n",
      "Train Epoch: 33\t[0/5124 (0%)]\tLoss: 0.028802\tAccuracy: 98.437500\tTime 0.859 (0.859)\tData 0.004 (0.004)\n",
      "Train Epoch: 33\t[640/5124 (12%)]\tLoss: 0.056920\tAccuracy: 95.312500\tTime 0.856 (0.858)\tData 0.002 (0.003)\n",
      "Train Epoch: 33\t[1280/5124 (25%)]\tLoss: 0.025698\tAccuracy: 96.875000\tTime 0.858 (0.858)\tData 0.002 (0.003)\n",
      "Train Epoch: 33\t[1920/5124 (37%)]\tLoss: 0.007002\tAccuracy: 100.000000\tTime 0.856 (0.858)\tData 0.002 (0.003)\n",
      "Train Epoch: 33\t[2560/5124 (49%)]\tLoss: 0.001993\tAccuracy: 100.000000\tTime 0.853 (0.857)\tData 0.002 (0.003)\n",
      "Train Epoch: 33\t[3200/5124 (62%)]\tLoss: 0.023585\tAccuracy: 98.437500\tTime 0.853 (0.857)\tData 0.002 (0.003)\n",
      "Train Epoch: 33\t[3840/5124 (74%)]\tLoss: 0.010236\tAccuracy: 100.000000\tTime 0.855 (0.856)\tData 0.002 (0.003)\n",
      "Train Epoch: 33\t[4480/5124 (86%)]\tLoss: 0.021221\tAccuracy: 98.437500\tTime 0.855 (0.856)\tData 0.002 (0.003)\n",
      "Train Epoch: 33\t[320/5124 (99%)]\tLoss: 0.174248\tAccuracy: 75.000000\tTime 0.063 (0.846)\tData 0.000 (0.003)\n",
      "\n",
      "Val set: Average loss: 0.064009, Accuracy: 98.253676 \n",
      "\n",
      "Train Epoch: 34\t[0/5124 (0%)]\tLoss: 0.018856\tAccuracy: 100.000000\tTime 0.855 (0.855)\tData 0.003 (0.003)\n",
      "Train Epoch: 34\t[640/5124 (12%)]\tLoss: 0.024830\tAccuracy: 98.437500\tTime 0.857 (0.857)\tData 0.003 (0.003)\n",
      "Train Epoch: 34\t[1280/5124 (25%)]\tLoss: 0.023782\tAccuracy: 96.875000\tTime 0.855 (0.857)\tData 0.002 (0.003)\n",
      "Train Epoch: 34\t[1920/5124 (37%)]\tLoss: 0.005437\tAccuracy: 100.000000\tTime 0.856 (0.857)\tData 0.003 (0.003)\n",
      "Train Epoch: 34\t[2560/5124 (49%)]\tLoss: 0.025833\tAccuracy: 98.437500\tTime 0.856 (0.856)\tData 0.002 (0.003)\n",
      "Train Epoch: 34\t[3200/5124 (62%)]\tLoss: 0.016116\tAccuracy: 98.437500\tTime 0.852 (0.856)\tData 0.002 (0.003)\n",
      "Train Epoch: 34\t[3840/5124 (74%)]\tLoss: 0.005073\tAccuracy: 100.000000\tTime 0.853 (0.856)\tData 0.003 (0.003)\n",
      "Train Epoch: 34\t[4480/5124 (86%)]\tLoss: 0.003240\tAccuracy: 100.000000\tTime 0.853 (0.855)\tData 0.002 (0.003)\n",
      "Train Epoch: 34\t[320/5124 (99%)]\tLoss: 0.066928\tAccuracy: 100.000000\tTime 0.062 (0.845)\tData 0.000 (0.003)\n",
      "\n",
      "Val set: Average loss: 0.037513, Accuracy: 99.356618 \n",
      "\n",
      "Train Epoch: 35\t[0/5124 (0%)]\tLoss: 0.002731\tAccuracy: 100.000000\tTime 0.855 (0.855)\tData 0.004 (0.004)\n",
      "Train Epoch: 35\t[640/5124 (12%)]\tLoss: 0.014570\tAccuracy: 98.437500\tTime 0.853 (0.855)\tData 0.003 (0.003)\n",
      "Train Epoch: 35\t[1280/5124 (25%)]\tLoss: 0.010113\tAccuracy: 98.437500\tTime 0.854 (0.855)\tData 0.002 (0.003)\n",
      "Train Epoch: 35\t[1920/5124 (37%)]\tLoss: 0.011519\tAccuracy: 100.000000\tTime 0.855 (0.855)\tData 0.002 (0.003)\n",
      "Train Epoch: 35\t[2560/5124 (49%)]\tLoss: 0.007242\tAccuracy: 98.437500\tTime 0.851 (0.855)\tData 0.002 (0.003)\n",
      "Train Epoch: 35\t[3200/5124 (62%)]\tLoss: 0.005768\tAccuracy: 98.437500\tTime 0.857 (0.855)\tData 0.002 (0.003)\n",
      "Train Epoch: 35\t[3840/5124 (74%)]\tLoss: 0.001720\tAccuracy: 100.000000\tTime 0.853 (0.854)\tData 0.002 (0.003)\n",
      "Train Epoch: 35\t[4480/5124 (86%)]\tLoss: 0.007179\tAccuracy: 100.000000\tTime 0.851 (0.854)\tData 0.002 (0.003)\n",
      "Train Epoch: 35\t[320/5124 (99%)]\tLoss: 0.002249\tAccuracy: 100.000000\tTime 0.062 (0.844)\tData 0.001 (0.003)\n",
      "\n",
      "Val set: Average loss: 0.028999, Accuracy: 99.540441 \n",
      "\n",
      "Train Epoch: 36\t[0/5124 (0%)]\tLoss: 0.004165\tAccuracy: 100.000000\tTime 0.853 (0.853)\tData 0.003 (0.003)\n",
      "Train Epoch: 36\t[640/5124 (12%)]\tLoss: 0.004280\tAccuracy: 100.000000\tTime 0.853 (0.853)\tData 0.002 (0.003)\n",
      "Train Epoch: 36\t[1280/5124 (25%)]\tLoss: 0.000345\tAccuracy: 100.000000\tTime 0.851 (0.852)\tData 0.003 (0.003)\n",
      "Train Epoch: 36\t[1920/5124 (37%)]\tLoss: 0.000867\tAccuracy: 100.000000\tTime 0.850 (0.852)\tData 0.002 (0.003)\n",
      "Train Epoch: 36\t[2560/5124 (49%)]\tLoss: 0.001288\tAccuracy: 100.000000\tTime 0.851 (0.852)\tData 0.002 (0.003)\n",
      "Train Epoch: 36\t[3200/5124 (62%)]\tLoss: 0.002888\tAccuracy: 100.000000\tTime 0.854 (0.852)\tData 0.002 (0.003)\n",
      "Train Epoch: 36\t[3840/5124 (74%)]\tLoss: 0.001442\tAccuracy: 100.000000\tTime 0.855 (0.852)\tData 0.003 (0.003)\n",
      "Train Epoch: 36\t[4480/5124 (86%)]\tLoss: 0.001042\tAccuracy: 100.000000\tTime 0.850 (0.852)\tData 0.002 (0.003)\n",
      "Train Epoch: 36\t[320/5124 (99%)]\tLoss: 0.000000\tAccuracy: 100.000000\tTime 0.062 (0.842)\tData 0.001 (0.003)\n",
      "\n",
      "Val set: Average loss: 0.025046, Accuracy: 99.724265 \n",
      "\n",
      "Train Epoch: 37\t[0/5124 (0%)]\tLoss: 0.001168\tAccuracy: 100.000000\tTime 0.855 (0.855)\tData 0.004 (0.004)\n",
      "Train Epoch: 37\t[640/5124 (12%)]\tLoss: 0.001148\tAccuracy: 100.000000\tTime 0.852 (0.853)\tData 0.002 (0.003)\n",
      "Train Epoch: 37\t[1280/5124 (25%)]\tLoss: 0.000355\tAccuracy: 100.000000\tTime 0.852 (0.852)\tData 0.002 (0.003)\n",
      "Train Epoch: 37\t[1920/5124 (37%)]\tLoss: 0.000442\tAccuracy: 100.000000\tTime 0.852 (0.852)\tData 0.002 (0.003)\n",
      "Train Epoch: 37\t[2560/5124 (49%)]\tLoss: 0.001532\tAccuracy: 100.000000\tTime 0.852 (0.852)\tData 0.002 (0.003)\n",
      "Train Epoch: 37\t[3200/5124 (62%)]\tLoss: 0.000353\tAccuracy: 100.000000\tTime 0.851 (0.852)\tData 0.003 (0.003)\n",
      "Train Epoch: 37\t[3840/5124 (74%)]\tLoss: 0.000301\tAccuracy: 100.000000\tTime 0.851 (0.852)\tData 0.002 (0.003)\n",
      "Train Epoch: 37\t[4480/5124 (86%)]\tLoss: 0.005097\tAccuracy: 98.437500\tTime 0.852 (0.852)\tData 0.002 (0.003)\n",
      "Train Epoch: 37\t[320/5124 (99%)]\tLoss: 0.000000\tAccuracy: 100.000000\tTime 0.062 (0.843)\tData 0.001 (0.003)\n",
      "\n",
      "Val set: Average loss: 0.022169, Accuracy: 99.724265 \n",
      "\n",
      "Train Epoch: 38\t[0/5124 (0%)]\tLoss: 0.000564\tAccuracy: 100.000000\tTime 0.855 (0.855)\tData 0.004 (0.004)\n",
      "Train Epoch: 38\t[640/5124 (12%)]\tLoss: 0.001668\tAccuracy: 100.000000\tTime 0.852 (0.854)\tData 0.002 (0.003)\n",
      "Train Epoch: 38\t[1280/5124 (25%)]\tLoss: 0.000632\tAccuracy: 100.000000\tTime 0.852 (0.853)\tData 0.002 (0.003)\n",
      "Train Epoch: 38\t[1920/5124 (37%)]\tLoss: 0.000586\tAccuracy: 100.000000\tTime 0.850 (0.853)\tData 0.002 (0.003)\n",
      "Train Epoch: 38\t[2560/5124 (49%)]\tLoss: 0.000224\tAccuracy: 100.000000\tTime 0.852 (0.853)\tData 0.002 (0.003)\n",
      "Train Epoch: 38\t[3200/5124 (62%)]\tLoss: 0.000177\tAccuracy: 100.000000\tTime 0.854 (0.853)\tData 0.003 (0.003)\n",
      "Train Epoch: 38\t[3840/5124 (74%)]\tLoss: 0.000603\tAccuracy: 100.000000\tTime 0.851 (0.853)\tData 0.002 (0.003)\n",
      "Train Epoch: 38\t[4480/5124 (86%)]\tLoss: 0.002280\tAccuracy: 100.000000\tTime 0.853 (0.853)\tData 0.002 (0.003)\n",
      "Train Epoch: 38\t[320/5124 (99%)]\tLoss: 0.000958\tAccuracy: 100.000000\tTime 0.064 (0.843)\tData 0.000 (0.003)\n",
      "\n",
      "Val set: Average loss: 0.020632, Accuracy: 99.724265 \n",
      "\n",
      "Train Epoch: 39\t[0/5124 (0%)]\tLoss: 0.000365\tAccuracy: 100.000000\tTime 0.851 (0.851)\tData 0.003 (0.003)\n",
      "Train Epoch: 39\t[640/5124 (12%)]\tLoss: 0.000560\tAccuracy: 100.000000\tTime 0.852 (0.853)\tData 0.002 (0.003)\n",
      "Train Epoch: 39\t[1280/5124 (25%)]\tLoss: 0.000603\tAccuracy: 100.000000\tTime 0.852 (0.853)\tData 0.002 (0.003)\n",
      "Train Epoch: 39\t[1920/5124 (37%)]\tLoss: 0.001161\tAccuracy: 100.000000\tTime 0.852 (0.852)\tData 0.002 (0.003)\n",
      "Train Epoch: 39\t[2560/5124 (49%)]\tLoss: 0.002219\tAccuracy: 100.000000\tTime 0.856 (0.853)\tData 0.003 (0.003)\n",
      "Train Epoch: 39\t[3200/5124 (62%)]\tLoss: 0.000328\tAccuracy: 100.000000\tTime 0.852 (0.853)\tData 0.002 (0.003)\n",
      "Train Epoch: 39\t[3840/5124 (74%)]\tLoss: 0.000079\tAccuracy: 100.000000\tTime 0.850 (0.853)\tData 0.002 (0.003)\n",
      "Train Epoch: 39\t[4480/5124 (86%)]\tLoss: 0.003177\tAccuracy: 100.000000\tTime 0.852 (0.853)\tData 0.002 (0.003)\n",
      "Train Epoch: 39\t[320/5124 (99%)]\tLoss: 0.056646\tAccuracy: 100.000000\tTime 0.062 (0.843)\tData 0.000 (0.003)\n",
      "\n",
      "Val set: Average loss: 0.020529, Accuracy: 99.632353 \n",
      "\n",
      "Train Epoch: 40\t[0/5124 (0%)]\tLoss: 0.001218\tAccuracy: 100.000000\tTime 0.853 (0.853)\tData 0.004 (0.004)\n",
      "Train Epoch: 40\t[640/5124 (12%)]\tLoss: 0.007659\tAccuracy: 100.000000\tTime 0.855 (0.854)\tData 0.002 (0.003)\n",
      "Train Epoch: 40\t[1280/5124 (25%)]\tLoss: 0.023605\tAccuracy: 96.875000\tTime 0.854 (0.855)\tData 0.002 (0.003)\n",
      "Train Epoch: 40\t[1920/5124 (37%)]\tLoss: 0.005385\tAccuracy: 100.000000\tTime 0.858 (0.856)\tData 0.002 (0.003)\n",
      "Train Epoch: 40\t[2560/5124 (49%)]\tLoss: 0.002939\tAccuracy: 100.000000\tTime 0.855 (0.856)\tData 0.002 (0.003)\n",
      "Train Epoch: 40\t[3200/5124 (62%)]\tLoss: 0.010294\tAccuracy: 98.437500\tTime 0.853 (0.856)\tData 0.002 (0.003)\n",
      "Train Epoch: 40\t[3840/5124 (74%)]\tLoss: 0.003557\tAccuracy: 100.000000\tTime 0.852 (0.856)\tData 0.002 (0.003)\n",
      "Train Epoch: 40\t[4480/5124 (86%)]\tLoss: 0.004856\tAccuracy: 100.000000\tTime 0.852 (0.856)\tData 0.003 (0.003)\n",
      "Train Epoch: 40\t[320/5124 (99%)]\tLoss: 0.032635\tAccuracy: 100.000000\tTime 0.062 (0.846)\tData 0.001 (0.003)\n",
      "\n",
      "Val set: Average loss: 0.034215, Accuracy: 99.448529 \n",
      "\n",
      "Train Epoch: 41\t[0/5124 (0%)]\tLoss: 0.009621\tAccuracy: 98.437500\tTime 0.859 (0.859)\tData 0.003 (0.003)\n",
      "Train Epoch: 41\t[640/5124 (12%)]\tLoss: 0.002714\tAccuracy: 100.000000\tTime 0.857 (0.856)\tData 0.002 (0.003)\n",
      "Train Epoch: 41\t[1280/5124 (25%)]\tLoss: 0.008923\tAccuracy: 100.000000\tTime 0.855 (0.855)\tData 0.002 (0.003)\n",
      "Train Epoch: 41\t[1920/5124 (37%)]\tLoss: 0.000738\tAccuracy: 100.000000\tTime 0.852 (0.855)\tData 0.002 (0.003)\n",
      "Train Epoch: 41\t[2560/5124 (49%)]\tLoss: 0.003253\tAccuracy: 100.000000\tTime 0.853 (0.855)\tData 0.002 (0.003)\n",
      "Train Epoch: 41\t[3200/5124 (62%)]\tLoss: 0.002551\tAccuracy: 100.000000\tTime 0.853 (0.855)\tData 0.002 (0.003)\n",
      "Train Epoch: 41\t[3840/5124 (74%)]\tLoss: 0.001130\tAccuracy: 100.000000\tTime 0.855 (0.855)\tData 0.002 (0.003)\n",
      "Train Epoch: 41\t[4480/5124 (86%)]\tLoss: 0.002651\tAccuracy: 100.000000\tTime 0.856 (0.855)\tData 0.002 (0.003)\n",
      "Train Epoch: 41\t[320/5124 (99%)]\tLoss: 0.450964\tAccuracy: 75.000000\tTime 0.063 (0.845)\tData 0.001 (0.003)\n",
      "\n",
      "Val set: Average loss: 0.019994, Accuracy: 99.724265 \n",
      "\n",
      "Train Epoch: 42\t[0/5124 (0%)]\tLoss: 0.005472\tAccuracy: 98.437500\tTime 0.854 (0.854)\tData 0.004 (0.004)\n",
      "Train Epoch: 42\t[640/5124 (12%)]\tLoss: 0.051894\tAccuracy: 95.312500\tTime 0.859 (0.859)\tData 0.002 (0.003)\n",
      "Train Epoch: 42\t[1280/5124 (25%)]\tLoss: 0.043423\tAccuracy: 98.437500\tTime 0.856 (0.859)\tData 0.002 (0.003)\n",
      "Train Epoch: 42\t[1920/5124 (37%)]\tLoss: 0.013218\tAccuracy: 100.000000\tTime 0.856 (0.859)\tData 0.002 (0.003)\n",
      "Train Epoch: 42\t[2560/5124 (49%)]\tLoss: 0.018793\tAccuracy: 98.437500\tTime 0.864 (0.859)\tData 0.002 (0.003)\n",
      "Train Epoch: 42\t[3200/5124 (62%)]\tLoss: 0.006610\tAccuracy: 100.000000\tTime 0.858 (0.859)\tData 0.002 (0.003)\n",
      "Train Epoch: 42\t[3840/5124 (74%)]\tLoss: 0.013859\tAccuracy: 98.437500\tTime 0.857 (0.859)\tData 0.002 (0.003)\n",
      "Train Epoch: 42\t[4480/5124 (86%)]\tLoss: 0.006687\tAccuracy: 100.000000\tTime 0.858 (0.859)\tData 0.002 (0.003)\n",
      "Train Epoch: 42\t[320/5124 (99%)]\tLoss: 0.007755\tAccuracy: 100.000000\tTime 0.062 (0.849)\tData 0.000 (0.003)\n",
      "\n",
      "Val set: Average loss: 0.046760, Accuracy: 98.529412 \n",
      "\n",
      "Train Epoch: 43\t[0/5124 (0%)]\tLoss: 0.007247\tAccuracy: 100.000000\tTime 0.858 (0.858)\tData 0.004 (0.004)\n",
      "Train Epoch: 43\t[640/5124 (12%)]\tLoss: 0.003184\tAccuracy: 100.000000\tTime 0.856 (0.858)\tData 0.003 (0.003)\n",
      "Train Epoch: 43\t[1280/5124 (25%)]\tLoss: 0.015182\tAccuracy: 98.437500\tTime 0.855 (0.858)\tData 0.002 (0.003)\n",
      "Train Epoch: 43\t[1920/5124 (37%)]\tLoss: 0.003496\tAccuracy: 100.000000\tTime 0.857 (0.858)\tData 0.002 (0.003)\n",
      "Train Epoch: 43\t[2560/5124 (49%)]\tLoss: 0.006218\tAccuracy: 100.000000\tTime 0.858 (0.858)\tData 0.002 (0.003)\n",
      "Train Epoch: 43\t[3200/5124 (62%)]\tLoss: 0.009537\tAccuracy: 100.000000\tTime 0.864 (0.857)\tData 0.003 (0.003)\n",
      "Train Epoch: 43\t[3840/5124 (74%)]\tLoss: 0.005207\tAccuracy: 100.000000\tTime 0.856 (0.858)\tData 0.002 (0.003)\n",
      "Train Epoch: 43\t[4480/5124 (86%)]\tLoss: 0.001756\tAccuracy: 100.000000\tTime 0.858 (0.858)\tData 0.002 (0.003)\n",
      "Train Epoch: 43\t[320/5124 (99%)]\tLoss: 0.011058\tAccuracy: 100.000000\tTime 0.062 (0.848)\tData 0.001 (0.003)\n",
      "\n",
      "Val set: Average loss: 0.019219, Accuracy: 99.724265 \n",
      "\n",
      "Train Epoch: 44\t[0/5124 (0%)]\tLoss: 0.004740\tAccuracy: 100.000000\tTime 0.858 (0.858)\tData 0.004 (0.004)\n",
      "Train Epoch: 44\t[640/5124 (12%)]\tLoss: 0.002615\tAccuracy: 100.000000\tTime 0.858 (0.859)\tData 0.002 (0.004)\n",
      "Train Epoch: 44\t[1280/5124 (25%)]\tLoss: 0.002443\tAccuracy: 100.000000\tTime 0.859 (0.859)\tData 0.002 (0.003)\n",
      "Train Epoch: 44\t[1920/5124 (37%)]\tLoss: 0.002509\tAccuracy: 100.000000\tTime 0.861 (0.860)\tData 0.002 (0.003)\n",
      "Train Epoch: 44\t[2560/5124 (49%)]\tLoss: 0.003628\tAccuracy: 100.000000\tTime 0.862 (0.860)\tData 0.002 (0.003)\n",
      "Train Epoch: 44\t[3200/5124 (62%)]\tLoss: 0.001927\tAccuracy: 100.000000\tTime 0.858 (0.860)\tData 0.002 (0.003)\n",
      "Train Epoch: 44\t[3840/5124 (74%)]\tLoss: 0.001341\tAccuracy: 100.000000\tTime 0.859 (0.859)\tData 0.003 (0.003)\n",
      "Train Epoch: 44\t[4480/5124 (86%)]\tLoss: 0.001323\tAccuracy: 100.000000\tTime 0.861 (0.859)\tData 0.002 (0.003)\n",
      "Train Epoch: 44\t[320/5124 (99%)]\tLoss: 0.082038\tAccuracy: 100.000000\tTime 0.063 (0.849)\tData 0.000 (0.003)\n",
      "\n",
      "Val set: Average loss: 0.018398, Accuracy: 99.724265 \n",
      "\n",
      "Train Epoch: 45\t[0/5124 (0%)]\tLoss: 0.006974\tAccuracy: 98.437500\tTime 0.863 (0.863)\tData 0.004 (0.004)\n",
      "Train Epoch: 45\t[640/5124 (12%)]\tLoss: 0.039060\tAccuracy: 96.875000\tTime 0.859 (0.859)\tData 0.002 (0.003)\n",
      "Train Epoch: 45\t[1280/5124 (25%)]\tLoss: 0.003623\tAccuracy: 100.000000\tTime 0.859 (0.860)\tData 0.002 (0.003)\n",
      "Train Epoch: 45\t[1920/5124 (37%)]\tLoss: 0.005744\tAccuracy: 100.000000\tTime 0.861 (0.860)\tData 0.002 (0.003)\n",
      "Train Epoch: 45\t[2560/5124 (49%)]\tLoss: 0.001588\tAccuracy: 100.000000\tTime 0.858 (0.860)\tData 0.002 (0.003)\n",
      "Train Epoch: 45\t[3200/5124 (62%)]\tLoss: 0.019922\tAccuracy: 100.000000\tTime 0.861 (0.860)\tData 0.002 (0.003)\n",
      "Train Epoch: 45\t[3840/5124 (74%)]\tLoss: 0.001505\tAccuracy: 100.000000\tTime 0.862 (0.861)\tData 0.002 (0.003)\n",
      "Train Epoch: 45\t[4480/5124 (86%)]\tLoss: 0.010255\tAccuracy: 100.000000\tTime 0.863 (0.861)\tData 0.002 (0.003)\n",
      "Train Epoch: 45\t[320/5124 (99%)]\tLoss: 0.005168\tAccuracy: 100.000000\tTime 0.062 (0.851)\tData 0.001 (0.003)\n",
      "\n",
      "Val set: Average loss: 0.024061, Accuracy: 99.356618 \n",
      "\n",
      "Train Epoch: 46\t[0/5124 (0%)]\tLoss: 0.004384\tAccuracy: 100.000000\tTime 0.864 (0.864)\tData 0.007 (0.007)\n",
      "Train Epoch: 46\t[640/5124 (12%)]\tLoss: 0.009843\tAccuracy: 100.000000\tTime 0.862 (0.862)\tData 0.002 (0.003)\n",
      "Train Epoch: 46\t[1280/5124 (25%)]\tLoss: 0.002289\tAccuracy: 100.000000\tTime 0.863 (0.862)\tData 0.002 (0.003)\n",
      "Train Epoch: 46\t[1920/5124 (37%)]\tLoss: 0.002662\tAccuracy: 100.000000\tTime 0.860 (0.862)\tData 0.002 (0.003)\n",
      "Train Epoch: 46\t[2560/5124 (49%)]\tLoss: 0.002142\tAccuracy: 100.000000\tTime 0.861 (0.862)\tData 0.003 (0.003)\n",
      "Train Epoch: 46\t[3200/5124 (62%)]\tLoss: 0.001196\tAccuracy: 100.000000\tTime 0.861 (0.862)\tData 0.002 (0.003)\n",
      "Train Epoch: 46\t[3840/5124 (74%)]\tLoss: 0.001363\tAccuracy: 100.000000\tTime 0.862 (0.862)\tData 0.002 (0.003)\n",
      "Train Epoch: 46\t[4480/5124 (86%)]\tLoss: 0.007333\tAccuracy: 100.000000\tTime 0.859 (0.862)\tData 0.002 (0.003)\n",
      "Train Epoch: 46\t[320/5124 (99%)]\tLoss: 0.021664\tAccuracy: 100.000000\tTime 0.063 (0.852)\tData 0.001 (0.003)\n",
      "\n",
      "Val set: Average loss: 0.016678, Accuracy: 99.540441 \n",
      "\n",
      "Train Epoch: 47\t[0/5124 (0%)]\tLoss: 0.003667\tAccuracy: 100.000000\tTime 0.862 (0.862)\tData 0.004 (0.004)\n",
      "Train Epoch: 47\t[640/5124 (12%)]\tLoss: 0.002095\tAccuracy: 100.000000\tTime 0.863 (0.862)\tData 0.002 (0.003)\n",
      "Train Epoch: 47\t[1280/5124 (25%)]\tLoss: 0.001686\tAccuracy: 100.000000\tTime 0.862 (0.862)\tData 0.002 (0.003)\n",
      "Train Epoch: 47\t[1920/5124 (37%)]\tLoss: 0.002288\tAccuracy: 100.000000\tTime 0.859 (0.862)\tData 0.003 (0.003)\n",
      "Train Epoch: 47\t[2560/5124 (49%)]\tLoss: 0.001825\tAccuracy: 100.000000\tTime 0.859 (0.862)\tData 0.002 (0.003)\n",
      "Train Epoch: 47\t[3200/5124 (62%)]\tLoss: 0.001968\tAccuracy: 100.000000\tTime 0.864 (0.862)\tData 0.002 (0.003)\n",
      "Train Epoch: 47\t[3840/5124 (74%)]\tLoss: 0.002526\tAccuracy: 100.000000\tTime 0.861 (0.862)\tData 0.002 (0.003)\n",
      "Train Epoch: 47\t[4480/5124 (86%)]\tLoss: 0.001225\tAccuracy: 100.000000\tTime 0.861 (0.862)\tData 0.002 (0.003)\n",
      "Train Epoch: 47\t[320/5124 (99%)]\tLoss: 0.016513\tAccuracy: 100.000000\tTime 0.063 (0.852)\tData 0.000 (0.003)\n",
      "\n",
      "Val set: Average loss: 0.014559, Accuracy: 99.632353 \n",
      "\n",
      "Train Epoch: 48\t[0/5124 (0%)]\tLoss: 0.004003\tAccuracy: 100.000000\tTime 0.862 (0.862)\tData 0.004 (0.004)\n",
      "Train Epoch: 48\t[640/5124 (12%)]\tLoss: 0.014284\tAccuracy: 98.437500\tTime 0.863 (0.862)\tData 0.002 (0.003)\n",
      "Train Epoch: 48\t[1280/5124 (25%)]\tLoss: 0.002042\tAccuracy: 100.000000\tTime 0.860 (0.862)\tData 0.002 (0.003)\n",
      "Train Epoch: 48\t[1920/5124 (37%)]\tLoss: 0.000849\tAccuracy: 100.000000\tTime 0.863 (0.862)\tData 0.002 (0.003)\n",
      "Train Epoch: 48\t[2560/5124 (49%)]\tLoss: 0.002497\tAccuracy: 100.000000\tTime 0.864 (0.862)\tData 0.002 (0.003)\n",
      "Train Epoch: 48\t[3200/5124 (62%)]\tLoss: 0.002181\tAccuracy: 100.000000\tTime 0.862 (0.863)\tData 0.003 (0.003)\n",
      "Train Epoch: 48\t[3840/5124 (74%)]\tLoss: 0.002741\tAccuracy: 100.000000\tTime 0.862 (0.863)\tData 0.002 (0.003)\n",
      "Train Epoch: 48\t[4480/5124 (86%)]\tLoss: 0.002146\tAccuracy: 100.000000\tTime 0.863 (0.863)\tData 0.002 (0.003)\n",
      "Train Epoch: 48\t[320/5124 (99%)]\tLoss: 0.001311\tAccuracy: 100.000000\tTime 0.062 (0.853)\tData 0.001 (0.003)\n",
      "\n",
      "Val set: Average loss: 0.012252, Accuracy: 99.724265 \n",
      "\n",
      "Train Epoch: 49\t[0/5124 (0%)]\tLoss: 0.001840\tAccuracy: 100.000000\tTime 0.863 (0.863)\tData 0.004 (0.004)\n",
      "Train Epoch: 49\t[640/5124 (12%)]\tLoss: 0.001877\tAccuracy: 100.000000\tTime 0.862 (0.862)\tData 0.002 (0.003)\n",
      "Train Epoch: 49\t[1280/5124 (25%)]\tLoss: 0.001845\tAccuracy: 100.000000\tTime 0.862 (0.862)\tData 0.003 (0.003)\n",
      "Train Epoch: 49\t[1920/5124 (37%)]\tLoss: 0.002628\tAccuracy: 100.000000\tTime 0.859 (0.862)\tData 0.002 (0.003)\n",
      "Train Epoch: 49\t[2560/5124 (49%)]\tLoss: 0.002285\tAccuracy: 100.000000\tTime 0.862 (0.862)\tData 0.003 (0.003)\n",
      "Train Epoch: 49\t[3200/5124 (62%)]\tLoss: 0.002947\tAccuracy: 100.000000\tTime 0.862 (0.862)\tData 0.002 (0.003)\n",
      "Train Epoch: 49\t[3840/5124 (74%)]\tLoss: 0.002335\tAccuracy: 100.000000\tTime 0.861 (0.863)\tData 0.002 (0.003)\n",
      "Train Epoch: 49\t[4480/5124 (86%)]\tLoss: 0.002588\tAccuracy: 100.000000\tTime 0.862 (0.863)\tData 0.002 (0.003)\n",
      "Train Epoch: 49\t[320/5124 (99%)]\tLoss: 0.003918\tAccuracy: 100.000000\tTime 0.063 (0.853)\tData 0.001 (0.003)\n",
      "\n",
      "Val set: Average loss: 0.011045, Accuracy: 99.724265 \n",
      "\n",
      "Train Epoch: 50\t[0/5124 (0%)]\tLoss: 0.001986\tAccuracy: 100.000000\tTime 0.863 (0.863)\tData 0.004 (0.004)\n",
      "Train Epoch: 50\t[640/5124 (12%)]\tLoss: 0.002210\tAccuracy: 100.000000\tTime 0.863 (0.863)\tData 0.002 (0.003)\n",
      "Train Epoch: 50\t[1280/5124 (25%)]\tLoss: 0.001861\tAccuracy: 100.000000\tTime 0.864 (0.863)\tData 0.002 (0.003)\n",
      "Train Epoch: 50\t[1920/5124 (37%)]\tLoss: 0.002184\tAccuracy: 100.000000\tTime 0.872 (0.863)\tData 0.002 (0.003)\n",
      "Train Epoch: 50\t[2560/5124 (49%)]\tLoss: 0.003095\tAccuracy: 100.000000\tTime 0.862 (0.863)\tData 0.002 (0.003)\n",
      "Train Epoch: 50\t[3200/5124 (62%)]\tLoss: 0.003351\tAccuracy: 100.000000\tTime 0.862 (0.863)\tData 0.002 (0.003)\n",
      "Train Epoch: 50\t[3840/5124 (74%)]\tLoss: 0.002983\tAccuracy: 100.000000\tTime 0.863 (0.863)\tData 0.003 (0.003)\n",
      "Train Epoch: 50\t[4480/5124 (86%)]\tLoss: 0.003372\tAccuracy: 100.000000\tTime 0.863 (0.863)\tData 0.002 (0.003)\n",
      "Train Epoch: 50\t[320/5124 (99%)]\tLoss: 0.002566\tAccuracy: 100.000000\tTime 0.063 (0.853)\tData 0.001 (0.003)\n",
      "\n",
      "Val set: Average loss: 0.009925, Accuracy: 99.724265 \n",
      "\n",
      "\n",
      "Val set: Average loss: 0.009925, Accuracy: 99.724265 \n",
      "\n",
      "\n",
      "\n",
      "Best validation accuracy: 99.908088\n",
      "\n",
      " Total time taken in seconds:  3633.296543598175\n"
     ]
    }
   ],
   "source": [
    "# Trainging Loop\n",
    "\n",
    "training_start_time = time.time()\n",
    "\n",
    "best_acc = test(valid_loader, model, criterion, device)[1]\n",
    "\n",
    "for epoch in range(1, epochs + 1):\n",
    "    acc = train(train_loader, model, criterion, optimizer, epoch, device)\n",
    "    acc /= len(train_loader)\n",
    "\n",
    "    current_acc = test(valid_loader, model, criterion, device)[1]\n",
    "    \n",
    "    if current_acc > best_acc:\n",
    "        best_acc = current_acc\n",
    "        print(\"-------------------- HIGHEST ACCURACY ---------------------------\")\n",
    "        torch.save(model.state_dict(), './model.pth')\n",
    "\n",
    "training_stop_time = time.time()\n",
    "\n",
    "best_acc = max(best_acc, test(valid_loader, model, criterion, device)[0])\n",
    "print('\\n\\nBest validation accuracy: {:.6f}'.format(best_acc))\n",
    "\n",
    "print('\\n Total time taken in seconds: ', training_stop_time - training_start_time)"
   ]
  },
  {
   "cell_type": "markdown",
   "metadata": {
    "id": "1-PusJd6f_FQ"
   },
   "source": [
    "#### Testing time!"
   ]
  },
  {
   "cell_type": "code",
   "execution_count": null,
   "metadata": {
    "colab": {
     "base_uri": "https://localhost:8080/"
    },
    "id": "-BoOtctOAApZ",
    "outputId": "182a43a8-86a0-4a79-b9cf-5963c0519689"
   },
   "outputs": [
    {
     "name": "stdout",
     "output_type": "stream",
     "text": [
      "\n",
      "Test set: Average loss: 0.052807, Accuracy: 99.926829 \n",
      "\n"
     ]
    }
   ],
   "source": [
    "model = CapsNet(A=A, B=B, C=C, D=D, E=num_class, iters=em_iters).to(device)\n",
    "model.load_state_dict(torch.load('./model.pth'))\n",
    "test(test_loader, model, criterion, device, test=True);"
   ]
  },
  {
   "cell_type": "markdown",
   "metadata": {
    "id": "B93ieiCMZ5eB"
   },
   "source": [
    "## **Inference and Visualization**"
   ]
  },
  {
   "cell_type": "markdown",
   "metadata": {
    "id": "q-xUh6iustlT"
   },
   "source": [
    "#### Inference"
   ]
  },
  {
   "cell_type": "code",
   "execution_count": null,
   "metadata": {
    "id": "0IG8C_OQZ8H6"
   },
   "outputs": [],
   "source": [
    "def AA_andEachClassAccuracy(confusion_matrix):\n",
    "    counter = confusion_matrix.shape[0]\n",
    "    list_diag = np.diag(confusion_matrix)\n",
    "    list_raw_sum = np.sum(confusion_matrix, axis=1)\n",
    "    each_acc = np.nan_to_num(truediv(list_diag, list_raw_sum))\n",
    "    average_acc = np.mean(each_acc)\n",
    "    return each_acc, average_acc"
   ]
  },
  {
   "cell_type": "code",
   "execution_count": null,
   "metadata": {
    "colab": {
     "base_uri": "https://localhost:8080/"
    },
    "id": "krZ2Z-9bZ-mA",
    "outputId": "92ddf6ac-3b8d-4ac2-e64c-81100c0fea9a"
   },
   "outputs": [
    {
     "name": "stdout",
     "output_type": "stream",
     "text": [
      "\n",
      "Test set: Average loss: 0.052807, Accuracy: 99.926829 \n",
      "\n",
      "------------------------ CONFUSION MATRIX -------------------------\n",
      "[[ 18   0   0   0   0   0   0   0   0   0   0   0   0   0   0   0]\n",
      " [  0 570   0   0   0   0   0   0   0   0   2   0   0   0   0   0]\n",
      " [  0   0 332   0   0   0   0   0   0   0   0   0   0   0   0   0]\n",
      " [  0   0   0  94   0   0   0   0   0   0   0   0   0   0   0   0]\n",
      " [  0   0   0   0 194   0   0   0   0   0   0   0   0   0   0   0]\n",
      " [  0   0   0   0   0 292   0   0   0   0   0   0   0   0   0   0]\n",
      " [  0   0   0   0   0   0  11   0   0   0   0   0   0   0   0   0]\n",
      " [  0   0   0   0   0   0   0 191   0   0   0   0   0   0   0   0]\n",
      " [  0   0   0   0   0   0   0   0   8   0   0   0   0   0   0   0]\n",
      " [  0   0   0   0   0   0   0   0   0 389   0   0   0   0   0   0]\n",
      " [  0   0   0   0   0   0   0   0   0   0 981   0   0   0   0   0]\n",
      " [  0   0   0   0   0   0   0   0   0   0   0 238   0   0   0   0]\n",
      " [  0   0   0   0   0   0   0   0   0   0   0   0  82   0   0   0]\n",
      " [  0   0   0   0   0   0   0   0   0   0   0   0   0 506   0   0]\n",
      " [  0   1   0   0   0   0   0   0   0   0   0   0   0   0 154   0]\n",
      " [  0   0   0   0   0   0   0   0   0   0   0   0   0   0   0  37]]\n",
      "\n",
      "\n",
      "---------------------- CLASSIFICATION REPORT ----------------------\n",
      "              precision    recall  f1-score   support\n",
      "\n",
      "           0       1.00      1.00      1.00        18\n",
      "           1       1.00      1.00      1.00       571\n",
      "           2       1.00      1.00      1.00       332\n",
      "           3       1.00      1.00      1.00        94\n",
      "           4       1.00      1.00      1.00       194\n",
      "           5       1.00      1.00      1.00       292\n",
      "           6       1.00      1.00      1.00        11\n",
      "           7       1.00      1.00      1.00       191\n",
      "           8       1.00      1.00      1.00         8\n",
      "           9       1.00      1.00      1.00       389\n",
      "          10       1.00      1.00      1.00       983\n",
      "          11       1.00      1.00      1.00       238\n",
      "          12       1.00      1.00      1.00        82\n",
      "          13       1.00      1.00      1.00       506\n",
      "          14       0.99      1.00      1.00       154\n",
      "          15       1.00      1.00      1.00        37\n",
      "\n",
      "    accuracy                           1.00      4100\n",
      "   macro avg       1.00      1.00      1.00      4100\n",
      "weighted avg       1.00      1.00      1.00      4100\n",
      "\n",
      "\n",
      "\n",
      "------------------------ OVERALL ACCURACY -------------------------\n",
      "0.999268292682927\n",

      "\n",
      "\n",
      "------------------------ AVERAGE ACCURACY -------------------------\n",
      "0.999763381157435\n",
      "\n",
      "\n",
      "--------------------------- KAPPA SCORE ---------------------------\n",
      "0.998887590323935\n",
      "\n",
      "\n",
      "-------------------------- TEST ACCURACY --------------------------\n",
      "\n",
      "Test set: Average loss: 0.052807, Accuracy: 99.926829 \n",
      "\n"
     ]
    }
   ],
   "source": [
    "def report(model=model, test_loader=test_loader, criterion=criterion, device=device):\n",
    "\n",
    "    # Getting prediction vectors from test loader\n",
    "    y_pred = []\n",
    "    y_test = []\n",
    "    model.eval()\n",
    "    test_loss = 0\n",
    "    acc = 0\n",
    "    test_len = len(test_loader)\n",
    "    with torch.no_grad():\n",
    "        for data, target in test_loader:\n",
    "            output = model(data.to(device))\n",
    "            y_pred.extend(output.argmax(dim=1).float().tolist())\n",
    "            y_test.extend(target.tolist())\n",
    "\n",
    "    target_labels = ['0', '1', '2', '3', '4', '5', '6', '7', \n",
    "            '8', '9', '10', '11', '12', '13', '14', '15']\n",
    "\n",
    "    classificationReport = classification_report(y_test, y_pred, target_names=target_labels)\n",
    "    confusionMatrix = confusion_matrix(y_test, y_pred)\n",
    "    oa = accuracy_score(y_test, y_pred)\n",
    "    each_acc, aa = AA_andEachClassAccuracy(confusionMatrix)\n",
    "    kappa = cohen_kappa_score(y_test, y_pred)\n",
    "    test_loss, acc = test(test_loader, model, criterion, device, test=True)\n",
    "\n",
    "    print(\"------------------------ CONFUSION MATRIX -------------------------\")\n",
    "    print(confusionMatrix)\n",
    "\n",
    "    print(\"\\n\\n---------------------- CLASSIFICATION REPORT ----------------------\")\n",
    "    print(classificationReport)\n",
    "\n",
    "    print('\\n\\n------------------------ OVERALL ACCURACY -------------------------')\n",
    "    print(oa)\n",
    "\n",
    "    print('\\n\\n------------------------ AVERAGE ACCURACY -------------------------')\n",
    "    print(aa)\n",
    "\n",
    "    print('\\n\\n--------------------------- KAPPA SCORE ---------------------------')\n",
    "    print(kappa)\n",
    "\n",
    "    print('\\n\\n-------------------------- TEST ACCURACY --------------------------')\n",
    "    print('\\nTest set: Average loss: {:.6f}, Accuracy: {:.6f} \\n'.format(\n",
    "        test_loss, acc))\n",
    "\n",
    "report()"
   ]
  },
  {
   "cell_type": "markdown",
   "metadata": {
    "id": "mfyI8o-raJm3"
   },
   "source": [
    "#### Visualization"
   ]
  },
  {
   "cell_type": "code",
   "execution_count": null,
   "metadata": {
    "id": "zAsXUh8TaaRR"
   },
   "outputs": [],
   "source": [
    "X,y = loadData()\n",
    "X = applyPCA(X)\n",
    "X = padWithZeros(X, windowSize//2)"
   ]
  },
  {
   "cell_type": "code",
   "execution_count": null,
   "metadata": {
    "id": "emvkETrFaslj"
   },
   "outputs": [],
   "source": [
    "def Patch(data,height_index,width_index):\n",
    "    height_slice = slice(height_index, height_index + windowSize)\n",
    "    width_slice = slice(width_index, width_index + windowSize)\n",
    "    patch = data[height_slice, width_slice, :]\n",
    "    return patch"
   ]
  },
  {
   "cell_type": "code",
   "execution_count": null,
   "metadata": {
    "id": "aB1sYuXwaupH"
   },
   "outputs": [],
   "source": [
    "height,width = y.shape[0],y.shape[1]\n",
    "outputs = np.zeros((height,width))\n",
    "model.eval()\n",
    "with torch.no_grad():\n",
    "  for i in range(height):\n",
    "      for j in range(width):\n",
    "          target = int(y[i,j])\n",
    "          if target == 0 :\n",
    "              continue\n",
    "          else :\n",
    "              image_patch=Patch(X,i,j)\n",
    "              X_test_image = image_patch.transpose(2,0,1)\n",
    "              X_test_image = X_test_image.reshape(1,X_test_image.shape[0],X_test_image.shape[1], X_test_image.shape[2])\n",
    "              X_test_image = torch.Tensor(X_test_image).to(device)\n",
    "              pred = model(X_test_image)\n",
    "              pred = pred.cpu().numpy()\n",
    "              pred = np.argmax(pred, axis=-1)\n",
    "              outputs[i][j] = pred[0]+1"
   ]
  },
  {
   "cell_type": "markdown",
   "metadata": {
    "id": "5Hk9UvESa4Be"
   },
   "source": [
    "##### Ground Truth"
   ]
  },
  {
   "cell_type": "code",
   "execution_count": null,
   "metadata": {
    "colab": {
     "base_uri": "https://localhost:8080/",
     "height": 431
    },
    "id": "oaSqDBy_a5Ep",
    "outputId": "111eed61-5cb9-4d73-802b-57b2d83b8aee"
   },
   "outputs": [
    {
     "data": {
      "image/png": "[encoded data removed]",
      "text/plain": [
       "<Figure size 504x504 with 1 Axes>"
      ]
     },
     "metadata": {
      "needs_background": "light",
      "tags": []
     },
     "output_type": "display_data"
    }
   ],
   "source": [
    "ground_truth = spectral.imshow(classes = y,figsize =(7,7))"
   ]
  },
  {
   "cell_type": "markdown",
   "metadata": {
    "id": "7c_v4cuGa7o3"
   },
   "source": [
    "##### Predictions"
   ]
  },
  {
   "cell_type": "code",
   "execution_count": null,
   "metadata": {
    "colab": {
     "base_uri": "https://localhost:8080/",
     "height": 431
    },
    "id": "jKAdGZCMa80E",
    "outputId": "00651f50-9365-4634-982b-eadc90f2362a"
   },
   "outputs": [
    {
     "data": {
      "image/png": "[encoded data removed]",
      "text/plain": [
       "<Figure size 504x504 with 1 Axes>"
      ]
     },
     "metadata": {
      "needs_background": "light",
      "tags": []
     },
     "output_type": "display_data"
    }
   ],
   "source": [
    "predict_image = spectral.imshow(classes = outputs.astype(int),figsize =(7,7))"
   ]
  }
 ],
 "metadata": {
  "accelerator": "GPU",
  "colab": {
   "collapsed_sections": [],
   "machine_shape": "hm",
   "name": "[FINAL] IndianPinesSeed3.ipynb",
   "provenance": []
  },
  "kernelspec": {
   "display_name": "Python 3 (ipykernel)",
   "language": "python",
   "name": "python3"
  },
  "language_info": {
   "codemirror_mode": {
    "name": "ipython",
    "version": 3
   },
   "file_extension": ".py",
   "mimetype": "text/x-python",
   "name": "python",
   "nbconvert_exporter": "python",
   "pygments_lexer": "ipython3",
   "version": "3.8.12"
  }
 },
 "nbformat": 4,
 "nbformat_minor": 4
}
